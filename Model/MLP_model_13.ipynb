{
 "cells": [
  {
   "cell_type": "code",
   "execution_count": 1,
   "metadata": {},
   "outputs": [],
   "source": [
    "# Importing Required Library\n",
    "import numpy as np\n",
    "import tensorflow as tf\n",
    "import matplotlib.pyplot as plt"
   ]
  },
  {
   "cell_type": "code",
   "execution_count": 2,
   "metadata": {},
   "outputs": [],
   "source": [
    "# Importing the dataset \n",
    "import pandas as pd\n",
    "dataset = pd.read_csv('/mnt/c/Users/Ashok/Documents/EECS245/OpenFuelCell/Data/sofc-output.csv')\n",
    "X = dataset.iloc[:,0:9].values\n",
    "Y = dataset.iloc[:,9].values\n"
   ]
  },
  {
   "cell_type": "code",
   "execution_count": 3,
   "metadata": {},
   "outputs": [],
   "source": [
    "# Splitting the dataset into the Training set and Test set\n",
    "from sklearn.model_selection import train_test_split\n",
    "X_train, X_test,Y_train, Y_test = train_test_split(X, Y, test_size = 0.3, random_state = 0)"
   ]
  },
  {
   "cell_type": "code",
   "execution_count": 4,
   "metadata": {},
   "outputs": [],
   "source": [
    "# Feature Scaling\n",
    "from sklearn.preprocessing import StandardScaler\n",
    "sc = StandardScaler()\n",
    "X_train = sc.fit_transform(X_train)\n",
    "X_test = sc.transform(X_test)"
   ]
  },
  {
   "cell_type": "code",
   "execution_count": 17,
   "metadata": {},
   "outputs": [],
   "source": [
    "# Importing the Keras libraries and packages\n",
    "import tensorflow.keras\n",
    "from tensorflow.keras.models import Sequential,load_model,save_model\n",
    "from tensorflow.keras.layers import Dense, Flatten, Conv1D\n",
    "from tensorflow.keras import layers\n"
   ]
  },
  {
   "cell_type": "code",
   "execution_count": 18,
   "metadata": {},
   "outputs": [],
   "source": [
    "# Initialising the ANN\n",
    "mlp_regrassor = Sequential()"
   ]
  },
  {
   "cell_type": "code",
   "execution_count": 19,
   "metadata": {},
   "outputs": [],
   "source": [
    "#Add hidden layer\n",
    "# mlp_regrassor.add(Conv1D(filters=11,kernel_size=2,kernel_initializer='uniform',activation='relu',input_shape=(7000,11)))\n",
    "mlp_regrassor.add(Dense(units=5,kernel_initializer='uniform',activation='relu',input_shape=(9,)))\n",
    "# mlp_regrassor.add(Flatten())\n",
    "\n",
    "mlp_regrassor.add(Dense(units=5,kernel_initializer='uniform',activation='tanh'))\n",
    "mlp_regrassor.add(Dense(units=5,kernel_initializer='uniform',activation='elu'))\n",
    "mlp_regrassor.add(Dense(units=5,kernel_initializer='uniform',activation='relu'))"
   ]
  },
  {
   "cell_type": "code",
   "execution_count": 20,
   "metadata": {},
   "outputs": [],
   "source": [
    "# Add output layer\n",
    "mlp_regrassor.add(Dense(units=1,kernel_initializer='normal',activation='linear'))"
   ]
  },
  {
   "cell_type": "code",
   "execution_count": 21,
   "metadata": {},
   "outputs": [],
   "source": [
    "#Compiling the ANN model\n",
    "mlp_regrassor.compile(optimizer='adam',loss = 'mean_squared_error',metrics=['accuracy'],learning_rate=0.1)"
   ]
  },
  {
   "cell_type": "code",
   "execution_count": 22,
   "metadata": {},
   "outputs": [
    {
     "name": "stdout",
     "output_type": "stream",
     "text": [
      "Model: \"sequential_1\"\n",
      "_________________________________________________________________\n",
      "Layer (type)                 Output Shape              Param #   \n",
      "=================================================================\n",
      "dense_5 (Dense)              (None, 5)                 50        \n",
      "_________________________________________________________________\n",
      "dense_6 (Dense)              (None, 5)                 30        \n",
      "_________________________________________________________________\n",
      "dense_7 (Dense)              (None, 5)                 30        \n",
      "_________________________________________________________________\n",
      "dense_8 (Dense)              (None, 5)                 30        \n",
      "_________________________________________________________________\n",
      "dense_9 (Dense)              (None, 1)                 6         \n",
      "=================================================================\n",
      "Total params: 146\n",
      "Trainable params: 146\n",
      "Non-trainable params: 0\n",
      "_________________________________________________________________\n"
     ]
    }
   ],
   "source": [
    "mlp_regrassor.summary()"
   ]
  },
  {
   "cell_type": "code",
   "execution_count": 23,
   "metadata": {},
   "outputs": [
    {
     "name": "stdout",
     "output_type": "stream",
     "text": [
      "Train on 7000 samples\n",
      "Epoch 1/100\n",
      "7000/7000 - 0s - loss: 3.8592 - accuracy: 0.0000e+00\n",
      "Epoch 2/100\n",
      "7000/7000 - 0s - loss: 0.9529 - accuracy: 0.0000e+00\n",
      "Epoch 3/100\n",
      "7000/7000 - 0s - loss: 0.0160 - accuracy: 0.0000e+00\n",
      "Epoch 4/100\n",
      "7000/7000 - 0s - loss: 0.0114 - accuracy: 0.0000e+00\n",
      "Epoch 5/100\n",
      "7000/7000 - 0s - loss: 0.0093 - accuracy: 0.0000e+00\n",
      "Epoch 6/100\n",
      "7000/7000 - 0s - loss: 0.0080 - accuracy: 0.0000e+00\n",
      "Epoch 7/100\n",
      "7000/7000 - 0s - loss: 0.0071 - accuracy: 0.0000e+00\n",
      "Epoch 8/100\n",
      "7000/7000 - 0s - loss: 0.0064 - accuracy: 0.0000e+00\n",
      "Epoch 9/100\n",
      "7000/7000 - 0s - loss: 0.0060 - accuracy: 0.0000e+00\n",
      "Epoch 10/100\n",
      "7000/7000 - 0s - loss: 0.0056 - accuracy: 0.0000e+00\n",
      "Epoch 11/100\n",
      "7000/7000 - 0s - loss: 0.0054 - accuracy: 0.0000e+00\n",
      "Epoch 12/100\n",
      "7000/7000 - 0s - loss: 0.0052 - accuracy: 0.0000e+00\n",
      "Epoch 13/100\n",
      "7000/7000 - 0s - loss: 0.0051 - accuracy: 0.0000e+00\n",
      "Epoch 14/100\n",
      "7000/7000 - 0s - loss: 0.0050 - accuracy: 0.0000e+00\n",
      "Epoch 15/100\n",
      "7000/7000 - 0s - loss: 0.0049 - accuracy: 0.0000e+00\n",
      "Epoch 16/100\n",
      "7000/7000 - 0s - loss: 0.0048 - accuracy: 0.0000e+00\n",
      "Epoch 17/100\n",
      "7000/7000 - 0s - loss: 0.0048 - accuracy: 0.0000e+00\n",
      "Epoch 18/100\n",
      "7000/7000 - 0s - loss: 0.0047 - accuracy: 0.0000e+00\n",
      "Epoch 19/100\n",
      "7000/7000 - 0s - loss: 0.0047 - accuracy: 0.0000e+00\n",
      "Epoch 20/100\n",
      "7000/7000 - 0s - loss: 0.0047 - accuracy: 0.0000e+00\n",
      "Epoch 21/100\n",
      "7000/7000 - 0s - loss: 0.0047 - accuracy: 0.0000e+00\n",
      "Epoch 22/100\n",
      "7000/7000 - 0s - loss: 0.0046 - accuracy: 0.0000e+00\n",
      "Epoch 23/100\n",
      "7000/7000 - 0s - loss: 0.0046 - accuracy: 0.0000e+00\n",
      "Epoch 24/100\n",
      "7000/7000 - 0s - loss: 0.0046 - accuracy: 0.0000e+00\n",
      "Epoch 25/100\n",
      "7000/7000 - 0s - loss: 0.0046 - accuracy: 0.0000e+00\n",
      "Epoch 26/100\n",
      "7000/7000 - 0s - loss: 0.0046 - accuracy: 0.0000e+00\n",
      "Epoch 27/100\n",
      "7000/7000 - 0s - loss: 0.0046 - accuracy: 0.0000e+00\n",
      "Epoch 28/100\n",
      "7000/7000 - 0s - loss: 0.0045 - accuracy: 0.0000e+00\n",
      "Epoch 29/100\n",
      "7000/7000 - 0s - loss: 0.0045 - accuracy: 0.0000e+00\n",
      "Epoch 30/100\n",
      "7000/7000 - 0s - loss: 0.0045 - accuracy: 0.0000e+00\n",
      "Epoch 31/100\n",
      "7000/7000 - 0s - loss: 0.0045 - accuracy: 0.0000e+00\n",
      "Epoch 32/100\n",
      "7000/7000 - 0s - loss: 0.0044 - accuracy: 0.0000e+00\n",
      "Epoch 33/100\n",
      "7000/7000 - 0s - loss: 0.0043 - accuracy: 0.0000e+00\n",
      "Epoch 34/100\n",
      "7000/7000 - 0s - loss: 0.0036 - accuracy: 0.0000e+00\n",
      "Epoch 35/100\n",
      "7000/7000 - 0s - loss: 0.0016 - accuracy: 0.0000e+00\n",
      "Epoch 36/100\n",
      "7000/7000 - 0s - loss: 0.0016 - accuracy: 0.0000e+00\n",
      "Epoch 37/100\n",
      "7000/7000 - 0s - loss: 0.0015 - accuracy: 0.0000e+00\n",
      "Epoch 38/100\n",
      "7000/7000 - 0s - loss: 0.0015 - accuracy: 0.0000e+00\n",
      "Epoch 39/100\n",
      "7000/7000 - 0s - loss: 0.0014 - accuracy: 0.0000e+00\n",
      "Epoch 40/100\n",
      "7000/7000 - 0s - loss: 0.0012 - accuracy: 0.0000e+00\n",
      "Epoch 41/100\n",
      "7000/7000 - 0s - loss: 0.0011 - accuracy: 0.0000e+00\n",
      "Epoch 42/100\n",
      "7000/7000 - 0s - loss: 9.1692e-04 - accuracy: 0.0000e+00\n",
      "Epoch 43/100\n",
      "7000/7000 - 0s - loss: 8.2836e-04 - accuracy: 0.0000e+00\n",
      "Epoch 44/100\n",
      "7000/7000 - 0s - loss: 7.8177e-04 - accuracy: 0.0000e+00\n",
      "Epoch 45/100\n",
      "7000/7000 - 0s - loss: 7.3747e-04 - accuracy: 0.0000e+00\n",
      "Epoch 46/100\n",
      "7000/7000 - 0s - loss: 6.9233e-04 - accuracy: 0.0000e+00\n",
      "Epoch 47/100\n",
      "7000/7000 - 0s - loss: 6.4847e-04 - accuracy: 0.0000e+00\n",
      "Epoch 48/100\n",
      "7000/7000 - 0s - loss: 5.9984e-04 - accuracy: 0.0000e+00\n",
      "Epoch 49/100\n",
      "7000/7000 - 0s - loss: 5.5679e-04 - accuracy: 0.0000e+00\n",
      "Epoch 50/100\n",
      "7000/7000 - 0s - loss: 5.1283e-04 - accuracy: 0.0000e+00\n",
      "Epoch 51/100\n",
      "7000/7000 - 0s - loss: 4.8295e-04 - accuracy: 0.0000e+00\n",
      "Epoch 52/100\n",
      "7000/7000 - 0s - loss: 4.7450e-04 - accuracy: 0.0000e+00\n",
      "Epoch 53/100\n",
      "7000/7000 - 0s - loss: 4.6487e-04 - accuracy: 0.0000e+00\n",
      "Epoch 54/100\n",
      "7000/7000 - 0s - loss: 4.5181e-04 - accuracy: 0.0000e+00\n",
      "Epoch 55/100\n",
      "7000/7000 - 0s - loss: 4.5256e-04 - accuracy: 0.0000e+00\n",
      "Epoch 56/100\n",
      "7000/7000 - 0s - loss: 4.4888e-04 - accuracy: 0.0000e+00\n",
      "Epoch 57/100\n",
      "7000/7000 - 0s - loss: 4.5722e-04 - accuracy: 0.0000e+00\n",
      "Epoch 58/100\n",
      "7000/7000 - 0s - loss: 4.4553e-04 - accuracy: 0.0000e+00\n",
      "Epoch 59/100\n",
      "7000/7000 - 0s - loss: 4.4642e-04 - accuracy: 0.0000e+00\n",
      "Epoch 60/100\n",
      "7000/7000 - 0s - loss: 4.4474e-04 - accuracy: 0.0000e+00\n",
      "Epoch 61/100\n",
      "7000/7000 - 0s - loss: 4.3963e-04 - accuracy: 0.0000e+00\n",
      "Epoch 62/100\n",
      "7000/7000 - 0s - loss: 4.4871e-04 - accuracy: 0.0000e+00\n",
      "Epoch 63/100\n",
      "7000/7000 - 0s - loss: 4.4239e-04 - accuracy: 0.0000e+00\n",
      "Epoch 64/100\n",
      "7000/7000 - 0s - loss: 4.3740e-04 - accuracy: 0.0000e+00\n",
      "Epoch 65/100\n",
      "7000/7000 - 0s - loss: 4.3613e-04 - accuracy: 0.0000e+00\n",
      "Epoch 66/100\n",
      "7000/7000 - 0s - loss: 4.3813e-04 - accuracy: 0.0000e+00\n",
      "Epoch 67/100\n",
      "7000/7000 - 0s - loss: 4.3536e-04 - accuracy: 0.0000e+00\n",
      "Epoch 68/100\n",
      "7000/7000 - 0s - loss: 4.3408e-04 - accuracy: 0.0000e+00\n",
      "Epoch 69/100\n",
      "7000/7000 - 0s - loss: 4.3878e-04 - accuracy: 0.0000e+00\n",
      "Epoch 70/100\n",
      "7000/7000 - 0s - loss: 4.3237e-04 - accuracy: 0.0000e+00\n",
      "Epoch 71/100\n",
      "7000/7000 - 0s - loss: 4.2615e-04 - accuracy: 0.0000e+00\n",
      "Epoch 72/100\n",
      "7000/7000 - 0s - loss: 4.2775e-04 - accuracy: 0.0000e+00\n",
      "Epoch 73/100\n",
      "7000/7000 - 0s - loss: 4.2450e-04 - accuracy: 0.0000e+00\n",
      "Epoch 74/100\n",
      "7000/7000 - 0s - loss: 4.1908e-04 - accuracy: 0.0000e+00\n",
      "Epoch 75/100\n",
      "7000/7000 - 0s - loss: 4.2641e-04 - accuracy: 0.0000e+00\n",
      "Epoch 76/100\n",
      "7000/7000 - 0s - loss: 4.2310e-04 - accuracy: 0.0000e+00\n",
      "Epoch 77/100\n",
      "7000/7000 - 0s - loss: 4.1933e-04 - accuracy: 0.0000e+00\n",
      "Epoch 78/100\n",
      "7000/7000 - 0s - loss: 4.1049e-04 - accuracy: 0.0000e+00\n",
      "Epoch 79/100\n",
      "7000/7000 - 0s - loss: 4.0897e-04 - accuracy: 0.0000e+00\n",
      "Epoch 80/100\n",
      "7000/7000 - 0s - loss: 4.1078e-04 - accuracy: 0.0000e+00\n",
      "Epoch 81/100\n",
      "7000/7000 - 0s - loss: 4.0969e-04 - accuracy: 0.0000e+00\n",
      "Epoch 82/100\n",
      "7000/7000 - 0s - loss: 4.0203e-04 - accuracy: 0.0000e+00\n",
      "Epoch 83/100\n",
      "7000/7000 - 0s - loss: 3.9957e-04 - accuracy: 0.0000e+00\n",
      "Epoch 84/100\n",
      "7000/7000 - 0s - loss: 4.1826e-04 - accuracy: 0.0000e+00\n",
      "Epoch 85/100\n",
      "7000/7000 - 0s - loss: 4.0099e-04 - accuracy: 0.0000e+00\n",
      "Epoch 86/100\n",
      "7000/7000 - 0s - loss: 3.9307e-04 - accuracy: 0.0000e+00\n",
      "Epoch 87/100\n",
      "7000/7000 - 0s - loss: 4.0278e-04 - accuracy: 0.0000e+00\n",
      "Epoch 88/100\n",
      "7000/7000 - 0s - loss: 3.8658e-04 - accuracy: 0.0000e+00\n",
      "Epoch 89/100\n",
      "7000/7000 - 0s - loss: 3.8109e-04 - accuracy: 0.0000e+00\n",
      "Epoch 90/100\n",
      "7000/7000 - 0s - loss: 3.8311e-04 - accuracy: 0.0000e+00\n",
      "Epoch 91/100\n",
      "7000/7000 - 0s - loss: 3.7479e-04 - accuracy: 0.0000e+00\n",
      "Epoch 92/100\n",
      "7000/7000 - 0s - loss: 3.7716e-04 - accuracy: 0.0000e+00\n",
      "Epoch 93/100\n",
      "7000/7000 - 0s - loss: 3.7816e-04 - accuracy: 0.0000e+00\n",
      "Epoch 94/100\n",
      "7000/7000 - 0s - loss: 3.6687e-04 - accuracy: 0.0000e+00\n",
      "Epoch 95/100\n",
      "7000/7000 - 0s - loss: 3.6967e-04 - accuracy: 0.0000e+00\n",
      "Epoch 96/100\n",
      "7000/7000 - 0s - loss: 3.6176e-04 - accuracy: 0.0000e+00\n",
      "Epoch 97/100\n",
      "7000/7000 - 0s - loss: 3.6500e-04 - accuracy: 0.0000e+00\n",
      "Epoch 98/100\n",
      "7000/7000 - 0s - loss: 3.6294e-04 - accuracy: 0.0000e+00\n",
      "Epoch 99/100\n",
      "7000/7000 - 0s - loss: 3.6071e-04 - accuracy: 0.0000e+00\n",
      "Epoch 100/100\n",
      "7000/7000 - 0s - loss: 3.5940e-04 - accuracy: 0.0000e+00\n",
      "Elapsed Time  20.442412200000035\n"
     ]
    }
   ],
   "source": [
    "import timeit\n",
    "start_time = timeit.default_timer()\n",
    "\n",
    "#Fitting the model in our Training data\n",
    "mlp_regrassor.fit(X_train,Y_train,batch_size = 50,epochs = 100,verbose = 2)\n",
    "elapsed = timeit.default_timer() - start_time\n",
    "\n",
    "print(\"Elapsed Time \",elapsed)"
   ]
  },
  {
   "cell_type": "code",
   "execution_count": 24,
   "metadata": {},
   "outputs": [
    {
     "data": {
      "text/plain": [
       "0.9246957850287668"
      ]
     },
     "execution_count": 24,
     "metadata": {},
     "output_type": "execute_result"
    }
   ],
   "source": [
    "#Evaluate the model\n",
    "from sklearn.metrics import r2_score\n",
    "Y_prediction = mlp_regrassor.predict(X_test)\n",
    "r2_score(Y_test,Y_prediction)"
   ]
  },
  {
   "cell_type": "code",
   "execution_count": 28,
   "metadata": {},
   "outputs": [],
   "source": [
    "mlp_regrassor.save('mlp_regrassor.h5')"
   ]
  },
  {
   "cell_type": "code",
   "execution_count": 29,
   "metadata": {},
   "outputs": [
    {
     "name": "stdout",
     "output_type": "stream",
     "text": [
      "Model: \"sequential_1\"\n",
      "_________________________________________________________________\n",
      "Layer (type)                 Output Shape              Param #   \n",
      "=================================================================\n",
      "dense_5 (Dense)              (None, 5)                 50        \n",
      "_________________________________________________________________\n",
      "dense_6 (Dense)              (None, 5)                 30        \n",
      "_________________________________________________________________\n",
      "dense_7 (Dense)              (None, 5)                 30        \n",
      "_________________________________________________________________\n",
      "dense_8 (Dense)              (None, 5)                 30        \n",
      "_________________________________________________________________\n",
      "dense_9 (Dense)              (None, 1)                 6         \n",
      "=================================================================\n",
      "Total params: 146\n",
      "Trainable params: 146\n",
      "Non-trainable params: 0\n",
      "_________________________________________________________________\n"
     ]
    }
   ],
   "source": [
    "mlp_regrassor.summary()"
   ]
  },
  {
   "cell_type": "code",
   "execution_count": 30,
   "metadata": {},
   "outputs": [],
   "source": [
    "loaded_model = load_model('mlp_regrassor.h5')"
   ]
  },
  {
   "cell_type": "code",
   "execution_count": 31,
   "metadata": {},
   "outputs": [
    {
     "name": "stdout",
     "output_type": "stream",
     "text": [
      "Model: \"sequential_1\"\n",
      "_________________________________________________________________\n",
      "Layer (type)                 Output Shape              Param #   \n",
      "=================================================================\n",
      "dense_5 (Dense)              (None, 5)                 50        \n",
      "_________________________________________________________________\n",
      "dense_6 (Dense)              (None, 5)                 30        \n",
      "_________________________________________________________________\n",
      "dense_7 (Dense)              (None, 5)                 30        \n",
      "_________________________________________________________________\n",
      "dense_8 (Dense)              (None, 5)                 30        \n",
      "_________________________________________________________________\n",
      "dense_9 (Dense)              (None, 1)                 6         \n",
      "=================================================================\n",
      "Total params: 146\n",
      "Trainable params: 146\n",
      "Non-trainable params: 0\n",
      "_________________________________________________________________\n"
     ]
    }
   ],
   "source": [
    "loaded_model.summary()"
   ]
  },
  {
   "cell_type": "code",
   "execution_count": 32,
   "metadata": {},
   "outputs": [
    {
     "data": {
      "text/plain": [
       "0.9246957850287668"
      ]
     },
     "execution_count": 32,
     "metadata": {},
     "output_type": "execute_result"
    }
   ],
   "source": [
    "#Evaluate the model\n",
    "from sklearn.metrics import r2_score\n",
    "Y_prediction = loaded_model.predict(X_test)\n",
    "r2_score(Y_test,Y_prediction)"
   ]
  },
  {
   "cell_type": "code",
   "execution_count": null,
   "metadata": {},
   "outputs": [],
   "source": []
  }
 ],
 "metadata": {
  "kernelspec": {
   "display_name": "Python 3",
   "language": "python",
   "name": "python3"
  },
  "language_info": {
   "codemirror_mode": {
    "name": "ipython",
    "version": 3
   },
   "file_extension": ".py",
   "mimetype": "text/x-python",
   "name": "python",
   "nbconvert_exporter": "python",
   "pygments_lexer": "ipython3",
   "version": "3.6.9"
  }
 },
 "nbformat": 4,
 "nbformat_minor": 4
}
