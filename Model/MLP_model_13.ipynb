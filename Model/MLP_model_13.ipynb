{
 "cells": [
  {
   "cell_type": "code",
   "execution_count": 2,
   "metadata": {},
   "outputs": [],
   "source": [
    "# Importing Required Library\n",
    "import numpy as np\n",
    "import tensorflow as tf\n",
    "import matplotlib.pyplot as plt"
   ]
  },
  {
   "cell_type": "code",
   "execution_count": 3,
   "metadata": {},
   "outputs": [],
   "source": [
    "# Importing the dataset \n",
    "import pandas as pd\n",
    "dataset = pd.read_csv('C:\\\\Users\\Ashok\\Documents\\EECS245\\OpenFuelCell\\Data\\sofc-output.csv')\n",
    "X = dataset.iloc[:,0:9].values\n",
    "Y = dataset.iloc[:,9].values\n"
   ]
  },
  {
   "cell_type": "code",
   "execution_count": 4,
   "metadata": {},
   "outputs": [],
   "source": [
    "# Splitting the dataset into the Training set and Test set\n",
    "from sklearn.model_selection import train_test_split\n",
    "X_train, X_test,Y_train, Y_test = train_test_split(X, Y, test_size = 0.2, random_state = 0)"
   ]
  },
  {
   "cell_type": "code",
   "execution_count": 5,
   "metadata": {},
   "outputs": [],
   "source": [
    "# Feature Scaling\n",
    "from sklearn.preprocessing import StandardScaler\n",
    "sc = StandardScaler()\n",
    "X_train = sc.fit_transform(X_train)\n",
    "X_test = sc.transform(X_test)"
   ]
  },
  {
   "cell_type": "code",
   "execution_count": 6,
   "metadata": {},
   "outputs": [],
   "source": [
    "# Importing the Keras libraries and packages\n",
    "import tensorflow.keras\n",
    "from tensorflow.keras.models import Sequential\n",
    "from tensorflow.keras.layers import Dense\n",
    "from tensorflow.keras import layers"
   ]
  },
  {
   "cell_type": "code",
   "execution_count": 7,
   "metadata": {},
   "outputs": [],
   "source": [
    "# Initialising the ANN\n",
    "mlp_regrassor = Sequential()"
   ]
  },
  {
   "cell_type": "code",
   "execution_count": 9,
   "metadata": {},
   "outputs": [],
   "source": [
    "#Add hidden layer\n",
    "mlp_regrassor.add(Dense(units=5,kernel_initializer='uniform',activation='relu',input_shape=(9,)))\n",
    "mlp_regrassor.add(Dense(units=5,kernel_initializer='uniform',activation='relu'))\n",
    "mlp_regrassor.add(Dense(units=5,kernel_initializer='uniform',activation='relu'))"
   ]
  },
  {
   "cell_type": "code",
   "execution_count": 10,
   "metadata": {},
   "outputs": [
    {
     "name": "stdout",
     "output_type": "stream",
     "text": [
      "WARNING:tensorflow:From C:\\Users\\Ashok\\.conda\\envs\\venv1\\lib\\site-packages\\tensorflow_core\\python\\keras\\initializers.py:143: calling RandomNormal.__init__ (from tensorflow.python.ops.init_ops) with dtype is deprecated and will be removed in a future version.\n",
      "Instructions for updating:\n",
      "Call initializer instance with the dtype argument instead of passing it to the constructor\n"
     ]
    }
   ],
   "source": [
    "# Add output layer\n",
    "mlp_regrassor.add(Dense(units=1,kernel_initializer='normal',activation='linear'))"
   ]
  },
  {
   "cell_type": "code",
   "execution_count": 11,
   "metadata": {},
   "outputs": [],
   "source": [
    "#Compiling the ANN model\n",
    "mlp_regrassor.compile(optimizer='adam',loss = 'mean_squared_error',metrics=['accuracy'])"
   ]
  },
  {
   "cell_type": "code",
   "execution_count": 14,
   "metadata": {},
   "outputs": [
    {
     "name": "stdout",
     "output_type": "stream",
     "text": [
      "Train on 8000 samples\n",
      "Epoch 1/100\n",
      "8000/8000 - 0s - loss: 7.6199e-04 - acc: 0.0000e+00\n",
      "Epoch 2/100\n",
      "8000/8000 - 0s - loss: 7.5626e-04 - acc: 0.0000e+00\n",
      "Epoch 3/100\n",
      "8000/8000 - 0s - loss: 7.5307e-04 - acc: 0.0000e+00\n",
      "Epoch 4/100\n",
      "8000/8000 - 0s - loss: 7.5396e-04 - acc: 0.0000e+00\n",
      "Epoch 5/100\n",
      "8000/8000 - 0s - loss: 7.5378e-04 - acc: 0.0000e+00\n",
      "Epoch 6/100\n",
      "8000/8000 - 0s - loss: 7.5470e-04 - acc: 0.0000e+00\n",
      "Epoch 7/100\n",
      "8000/8000 - 0s - loss: 7.5010e-04 - acc: 0.0000e+00\n",
      "Epoch 8/100\n",
      "8000/8000 - 0s - loss: 7.4875e-04 - acc: 0.0000e+00\n",
      "Epoch 9/100\n",
      "8000/8000 - 0s - loss: 7.4904e-04 - acc: 0.0000e+00\n",
      "Epoch 10/100\n",
      "8000/8000 - 0s - loss: 7.5002e-04 - acc: 0.0000e+00\n",
      "Epoch 11/100\n",
      "8000/8000 - 0s - loss: 7.5184e-04 - acc: 0.0000e+00\n",
      "Epoch 12/100\n",
      "8000/8000 - 0s - loss: 7.4871e-04 - acc: 0.0000e+00\n",
      "Epoch 13/100\n",
      "8000/8000 - 0s - loss: 7.4652e-04 - acc: 0.0000e+00\n",
      "Epoch 14/100\n",
      "8000/8000 - 0s - loss: 7.4733e-04 - acc: 0.0000e+00\n",
      "Epoch 15/100\n",
      "8000/8000 - 0s - loss: 7.5142e-04 - acc: 0.0000e+00\n",
      "Epoch 16/100\n",
      "8000/8000 - 0s - loss: 7.5512e-04 - acc: 0.0000e+00\n",
      "Epoch 17/100\n",
      "8000/8000 - 0s - loss: 7.4540e-04 - acc: 0.0000e+00\n",
      "Epoch 18/100\n",
      "8000/8000 - 0s - loss: 7.5128e-04 - acc: 0.0000e+00\n",
      "Epoch 19/100\n",
      "8000/8000 - 0s - loss: 7.4617e-04 - acc: 0.0000e+00\n",
      "Epoch 20/100\n",
      "8000/8000 - 0s - loss: 7.5003e-04 - acc: 0.0000e+00\n",
      "Epoch 21/100\n",
      "8000/8000 - 0s - loss: 7.4677e-04 - acc: 0.0000e+00\n",
      "Epoch 22/100\n",
      "8000/8000 - 0s - loss: 7.4713e-04 - acc: 0.0000e+00\n",
      "Epoch 23/100\n",
      "8000/8000 - 0s - loss: 7.4477e-04 - acc: 0.0000e+00\n",
      "Epoch 24/100\n",
      "8000/8000 - 0s - loss: 7.5341e-04 - acc: 0.0000e+00\n",
      "Epoch 25/100\n",
      "8000/8000 - 0s - loss: 7.4682e-04 - acc: 0.0000e+00\n",
      "Epoch 26/100\n",
      "8000/8000 - 0s - loss: 7.4592e-04 - acc: 0.0000e+00\n",
      "Epoch 27/100\n",
      "8000/8000 - 0s - loss: 7.4633e-04 - acc: 0.0000e+00\n",
      "Epoch 28/100\n",
      "8000/8000 - 0s - loss: 7.5278e-04 - acc: 0.0000e+00\n",
      "Epoch 29/100\n",
      "8000/8000 - 0s - loss: 7.4519e-04 - acc: 0.0000e+00\n",
      "Epoch 30/100\n",
      "8000/8000 - 0s - loss: 7.4158e-04 - acc: 0.0000e+00\n",
      "Epoch 31/100\n",
      "8000/8000 - 0s - loss: 7.4774e-04 - acc: 0.0000e+00\n",
      "Epoch 32/100\n",
      "8000/8000 - 0s - loss: 7.4647e-04 - acc: 0.0000e+00\n",
      "Epoch 33/100\n",
      "8000/8000 - 0s - loss: 7.5035e-04 - acc: 0.0000e+00\n",
      "Epoch 34/100\n",
      "8000/8000 - 0s - loss: 7.5660e-04 - acc: 0.0000e+00\n",
      "Epoch 35/100\n",
      "8000/8000 - 0s - loss: 7.5493e-04 - acc: 0.0000e+00\n",
      "Epoch 36/100\n",
      "8000/8000 - 0s - loss: 7.5311e-04 - acc: 0.0000e+00\n",
      "Epoch 37/100\n",
      "8000/8000 - 0s - loss: 7.4731e-04 - acc: 0.0000e+00\n",
      "Epoch 38/100\n",
      "8000/8000 - 0s - loss: 7.4813e-04 - acc: 0.0000e+00\n",
      "Epoch 39/100\n",
      "8000/8000 - 0s - loss: 7.4469e-04 - acc: 0.0000e+00\n",
      "Epoch 40/100\n",
      "8000/8000 - 0s - loss: 7.4489e-04 - acc: 0.0000e+00\n",
      "Epoch 41/100\n",
      "8000/8000 - 0s - loss: 7.4918e-04 - acc: 0.0000e+00\n",
      "Epoch 42/100\n",
      "8000/8000 - 0s - loss: 7.4349e-04 - acc: 0.0000e+00\n",
      "Epoch 43/100\n",
      "8000/8000 - 0s - loss: 7.4574e-04 - acc: 0.0000e+00\n",
      "Epoch 44/100\n",
      "8000/8000 - 0s - loss: 7.4503e-04 - acc: 0.0000e+00\n",
      "Epoch 45/100\n",
      "8000/8000 - 0s - loss: 7.3978e-04 - acc: 0.0000e+00\n",
      "Epoch 46/100\n",
      "8000/8000 - 0s - loss: 7.4055e-04 - acc: 0.0000e+00\n",
      "Epoch 47/100\n",
      "8000/8000 - 0s - loss: 7.4919e-04 - acc: 0.0000e+00\n",
      "Epoch 48/100\n",
      "8000/8000 - 0s - loss: 7.4146e-04 - acc: 0.0000e+00\n",
      "Epoch 49/100\n",
      "8000/8000 - 0s - loss: 7.3517e-04 - acc: 0.0000e+00\n",
      "Epoch 50/100\n",
      "8000/8000 - 0s - loss: 7.4831e-04 - acc: 0.0000e+00\n",
      "Epoch 51/100\n",
      "8000/8000 - 0s - loss: 7.4476e-04 - acc: 0.0000e+00\n",
      "Epoch 52/100\n",
      "8000/8000 - 0s - loss: 7.4552e-04 - acc: 0.0000e+00\n",
      "Epoch 53/100\n",
      "8000/8000 - 0s - loss: 7.4965e-04 - acc: 0.0000e+00\n",
      "Epoch 54/100\n",
      "8000/8000 - 0s - loss: 7.4427e-04 - acc: 0.0000e+00\n",
      "Epoch 55/100\n",
      "8000/8000 - 0s - loss: 7.4724e-04 - acc: 0.0000e+00\n",
      "Epoch 56/100\n",
      "8000/8000 - 0s - loss: 7.4156e-04 - acc: 0.0000e+00\n",
      "Epoch 57/100\n",
      "8000/8000 - 0s - loss: 7.4274e-04 - acc: 0.0000e+00\n",
      "Epoch 58/100\n",
      "8000/8000 - 0s - loss: 7.3773e-04 - acc: 0.0000e+00\n",
      "Epoch 59/100\n",
      "8000/8000 - 0s - loss: 7.3970e-04 - acc: 0.0000e+00\n",
      "Epoch 60/100\n",
      "8000/8000 - 0s - loss: 7.3422e-04 - acc: 0.0000e+00\n",
      "Epoch 61/100\n",
      "8000/8000 - 0s - loss: 7.3711e-04 - acc: 0.0000e+00\n",
      "Epoch 62/100\n",
      "8000/8000 - 0s - loss: 7.5055e-04 - acc: 0.0000e+00\n",
      "Epoch 63/100\n",
      "8000/8000 - 0s - loss: 7.3966e-04 - acc: 0.0000e+00\n",
      "Epoch 64/100\n",
      "8000/8000 - 0s - loss: 7.3153e-04 - acc: 0.0000e+00\n",
      "Epoch 65/100\n",
      "8000/8000 - 0s - loss: 7.3813e-04 - acc: 0.0000e+00\n",
      "Epoch 66/100\n",
      "8000/8000 - 0s - loss: 7.3808e-04 - acc: 0.0000e+00\n",
      "Epoch 67/100\n",
      "8000/8000 - 0s - loss: 7.3164e-04 - acc: 0.0000e+00\n",
      "Epoch 68/100\n",
      "8000/8000 - 0s - loss: 7.2914e-04 - acc: 0.0000e+00\n",
      "Epoch 69/100\n",
      "8000/8000 - 0s - loss: 7.3015e-04 - acc: 0.0000e+00\n",
      "Epoch 70/100\n",
      "8000/8000 - 0s - loss: 7.3472e-04 - acc: 0.0000e+00\n",
      "Epoch 71/100\n",
      "8000/8000 - 0s - loss: 7.3636e-04 - acc: 0.0000e+00\n",
      "Epoch 72/100\n",
      "8000/8000 - 0s - loss: 7.2884e-04 - acc: 0.0000e+00\n",
      "Epoch 73/100\n",
      "8000/8000 - 0s - loss: 7.4048e-04 - acc: 0.0000e+00\n",
      "Epoch 74/100\n",
      "8000/8000 - 0s - loss: 7.3781e-04 - acc: 0.0000e+00\n",
      "Epoch 75/100\n",
      "8000/8000 - 0s - loss: 7.4476e-04 - acc: 0.0000e+00\n",
      "Epoch 76/100\n",
      "8000/8000 - 0s - loss: 7.3898e-04 - acc: 0.0000e+00\n",
      "Epoch 77/100\n",
      "8000/8000 - 0s - loss: 7.2948e-04 - acc: 0.0000e+00\n",
      "Epoch 78/100\n",
      "8000/8000 - 0s - loss: 7.2582e-04 - acc: 0.0000e+00\n",
      "Epoch 79/100\n",
      "8000/8000 - 0s - loss: 7.2528e-04 - acc: 0.0000e+00\n",
      "Epoch 80/100\n",
      "8000/8000 - 0s - loss: 7.3423e-04 - acc: 0.0000e+00\n",
      "Epoch 81/100\n",
      "8000/8000 - 0s - loss: 7.2705e-04 - acc: 0.0000e+00\n",
      "Epoch 82/100\n",
      "8000/8000 - 0s - loss: 7.2597e-04 - acc: 0.0000e+00\n",
      "Epoch 83/100\n",
      "8000/8000 - 0s - loss: 7.2730e-04 - acc: 0.0000e+00\n",
      "Epoch 84/100\n",
      "8000/8000 - 0s - loss: 7.2349e-04 - acc: 0.0000e+00\n",
      "Epoch 85/100\n",
      "8000/8000 - 0s - loss: 7.2177e-04 - acc: 0.0000e+00\n",
      "Epoch 86/100\n",
      "8000/8000 - 0s - loss: 7.3148e-04 - acc: 0.0000e+00\n",
      "Epoch 87/100\n",
      "8000/8000 - 0s - loss: 7.2699e-04 - acc: 0.0000e+00\n",
      "Epoch 88/100\n",
      "8000/8000 - 0s - loss: 7.3100e-04 - acc: 0.0000e+00\n",
      "Epoch 89/100\n",
      "8000/8000 - 0s - loss: 7.2509e-04 - acc: 0.0000e+00\n",
      "Epoch 90/100\n",
      "8000/8000 - 0s - loss: 7.2318e-04 - acc: 0.0000e+00\n",
      "Epoch 91/100\n",
      "8000/8000 - 0s - loss: 7.2113e-04 - acc: 0.0000e+00\n",
      "Epoch 92/100\n",
      "8000/8000 - 0s - loss: 7.1878e-04 - acc: 0.0000e+00\n",
      "Epoch 93/100\n",
      "8000/8000 - 0s - loss: 7.1875e-04 - acc: 0.0000e+00\n",
      "Epoch 94/100\n",
      "8000/8000 - 0s - loss: 7.2243e-04 - acc: 0.0000e+00\n",
      "Epoch 95/100\n",
      "8000/8000 - 0s - loss: 7.2918e-04 - acc: 0.0000e+00\n",
      "Epoch 96/100\n",
      "8000/8000 - 0s - loss: 7.1747e-04 - acc: 0.0000e+00\n",
      "Epoch 97/100\n",
      "8000/8000 - 0s - loss: 7.2794e-04 - acc: 0.0000e+00\n",
      "Epoch 98/100\n",
      "8000/8000 - 0s - loss: 7.2570e-04 - acc: 0.0000e+00\n",
      "Epoch 99/100\n",
      "8000/8000 - 0s - loss: 7.1587e-04 - acc: 0.0000e+00\n",
      "Epoch 100/100\n",
      "8000/8000 - 0s - loss: 7.1903e-04 - acc: 0.0000e+00\n"
     ]
    },
    {
     "data": {
      "text/plain": [
       "<tensorflow.python.keras.callbacks.History at 0x29136c62a08>"
      ]
     },
     "execution_count": 14,
     "metadata": {},
     "output_type": "execute_result"
    }
   ],
   "source": [
    "#Fitting the model in our Training data\n",
    "mlp_regrassor.fit(X_train,Y_train,batch_size = 100,epochs = 100,verbose = 2)"
   ]
  },
  {
   "cell_type": "code",
   "execution_count": 15,
   "metadata": {},
   "outputs": [
    {
     "data": {
      "text/plain": [
       "0.8357912784670919"
      ]
     },
     "execution_count": 15,
     "metadata": {},
     "output_type": "execute_result"
    }
   ],
   "source": [
    "#Evaluate the model\n",
    "from sklearn.metrics import r2_score\n",
    "Y_prediction = mlp_regrassor.predict(X_test)\n",
    "r2_score(Y_test,Y_prediction)"
   ]
  },
  {
   "cell_type": "code",
   "execution_count": 16,
   "metadata": {},
   "outputs": [
    {
     "name": "stdout",
     "output_type": "stream",
     "text": [
      "[[2.0229661]\n",
      " [2.2020016]\n",
      " [2.131339 ]\n",
      " ...\n",
      " [2.0183961]\n",
      " [2.1261077]\n",
      " [2.0651278]]\n"
     ]
    }
   ],
   "source": [
    "print(Y_prediction)"
   ]
  },
  {
   "cell_type": "code",
   "execution_count": 20,
   "metadata": {},
   "outputs": [
    {
     "name": "stdout",
     "output_type": "stream",
     "text": [
      "[2.00961997 2.19318325 2.09758335 ... 2.00976061 2.09758898 2.10031136]\n"
     ]
    }
   ],
   "source": [
    "print(Y_test)"
   ]
  },
  {
   "cell_type": "code",
   "execution_count": null,
   "metadata": {},
   "outputs": [],
   "source": []
  }
 ],
 "metadata": {
  "kernelspec": {
   "display_name": "Python 3",
   "language": "python",
   "name": "python3"
  },
  "language_info": {
   "codemirror_mode": {
    "name": "ipython",
    "version": 3
   },
   "file_extension": ".py",
   "mimetype": "text/x-python",
   "name": "python",
   "nbconvert_exporter": "python",
   "pygments_lexer": "ipython3",
   "version": "3.7.5"
  }
 },
 "nbformat": 4,
 "nbformat_minor": 4
}
