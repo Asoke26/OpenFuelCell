{
 "cells": [
  {
   "cell_type": "code",
   "execution_count": 1,
   "metadata": {},
   "outputs": [],
   "source": [
    "# Importing Required Library\n",
    "import numpy as np\n",
    "import tensorflow as tf\n",
    "import matplotlib.pyplot as plt"
   ]
  },
  {
   "cell_type": "code",
   "execution_count": 2,
   "metadata": {},
   "outputs": [],
   "source": [
    "# Importing the dataset \n",
    "import pandas as pd\n",
    "dataset = pd.read_csv('/home/ad26/Projects/Fall-19/EECS-245/OpenFuelCell/Data/sofc-output.csv')\n",
    "X = dataset.iloc[:,0:9].values\n",
    "Y = dataset.iloc[:,9].values\n"
   ]
  },
  {
   "cell_type": "code",
   "execution_count": 3,
   "metadata": {},
   "outputs": [],
   "source": [
    "# Splitting the dataset into the Training set and Test set\n",
    "from sklearn.model_selection import train_test_split\n",
    "X_train, X_test,Y_train, Y_test = train_test_split(X, Y, test_size = 0.3, random_state = 0)"
   ]
  },
  {
   "cell_type": "code",
   "execution_count": 4,
   "metadata": {},
   "outputs": [],
   "source": [
    "# Feature Scaling\n",
    "from sklearn.preprocessing import StandardScaler\n",
    "sc = StandardScaler()\n",
    "X_train = sc.fit_transform(X_train)\n",
    "X_test = sc.transform(X_test)"
   ]
  },
  {
   "cell_type": "code",
   "execution_count": 5,
   "metadata": {},
   "outputs": [],
   "source": [
    "# Importing the Keras libraries and packages\n",
    "import tensorflow.keras\n",
    "from tensorflow.keras.models import Sequential\n",
    "from tensorflow.keras.layers import Dense, Flatten, Conv1D\n",
    "from tensorflow.keras import layers"
   ]
  },
  {
   "cell_type": "code",
   "execution_count": 24,
   "metadata": {},
   "outputs": [],
   "source": [
    "# Initialising the ANN\n",
    "mlp_regrassor = Sequential()"
   ]
  },
  {
   "cell_type": "code",
   "execution_count": 26,
   "metadata": {},
   "outputs": [],
   "source": [
    "#Add hidden layer\n",
    "# mlp_regrassor.add(Conv1D(filters=11,kernel_size=2,kernel_initializer='uniform',activation='relu',input_shape=(7000,11)))\n",
    "mlp_regrassor.add(Dense(units=5,kernel_initializer='uniform',activation='relu',input_shape=(9,)))\n",
    "# mlp_regrassor.add(Flatten())\n",
    "\n",
    "mlp_regrassor.add(Dense(units=5,kernel_initializer='uniform',activation='tanh'))\n",
    "mlp_regrassor.add(Dense(units=5,kernel_initializer='uniform',activation='elu'))\n",
    "mlp_regrassor.add(Dense(units=5,kernel_initializer='uniform',activation='relu'))"
   ]
  },
  {
   "cell_type": "code",
   "execution_count": 33,
   "metadata": {},
   "outputs": [],
   "source": [
    "# Add output layer\n",
    "mlp_regrassor.add(Dense(units=1,kernel_initializer='normal',activation='linear'))"
   ]
  },
  {
   "cell_type": "code",
   "execution_count": 34,
   "metadata": {},
   "outputs": [],
   "source": [
    "#Compiling the ANN model\n",
    "mlp_regrassor.compile(optimizer='adam',loss = 'mean_squared_error',metrics=['accuracy'],learning_rate=0.1)"
   ]
  },
  {
   "cell_type": "code",
   "execution_count": 35,
   "metadata": {},
   "outputs": [
    {
     "name": "stdout",
     "output_type": "stream",
     "text": [
      "Train on 7000 samples\n",
      "Epoch 1/100\n",
      "7000/7000 - 1s - loss: 2.9232 - accuracy: 0.0000e+00\n",
      "Epoch 2/100\n",
      "7000/7000 - 0s - loss: 0.2159 - accuracy: 0.0000e+00\n",
      "Epoch 3/100\n",
      "7000/7000 - 0s - loss: 0.0045 - accuracy: 0.0000e+00\n",
      "Epoch 4/100\n",
      "7000/7000 - 0s - loss: 0.0040 - accuracy: 0.0000e+00\n",
      "Epoch 5/100\n",
      "7000/7000 - 0s - loss: 0.0038 - accuracy: 0.0000e+00\n",
      "Epoch 6/100\n",
      "7000/7000 - 0s - loss: 0.0036 - accuracy: 0.0000e+00\n",
      "Epoch 7/100\n",
      "7000/7000 - 0s - loss: 0.0035 - accuracy: 0.0000e+00\n",
      "Epoch 8/100\n",
      "7000/7000 - 0s - loss: 0.0033 - accuracy: 0.0000e+00\n",
      "Epoch 9/100\n",
      "7000/7000 - 0s - loss: 0.0032 - accuracy: 0.0000e+00\n",
      "Epoch 10/100\n",
      "7000/7000 - 0s - loss: 0.0030 - accuracy: 0.0000e+00\n",
      "Epoch 11/100\n",
      "7000/7000 - 0s - loss: 0.0029 - accuracy: 0.0000e+00\n",
      "Epoch 12/100\n",
      "7000/7000 - 1s - loss: 0.0027 - accuracy: 0.0000e+00\n",
      "Epoch 13/100\n",
      "7000/7000 - 0s - loss: 0.0025 - accuracy: 0.0000e+00\n",
      "Epoch 14/100\n",
      "7000/7000 - 0s - loss: 0.0023 - accuracy: 0.0000e+00\n",
      "Epoch 15/100\n",
      "7000/7000 - 0s - loss: 0.0021 - accuracy: 0.0000e+00\n",
      "Epoch 16/100\n",
      "7000/7000 - 1s - loss: 0.0018 - accuracy: 0.0000e+00\n",
      "Epoch 17/100\n",
      "7000/7000 - 0s - loss: 0.0013 - accuracy: 0.0000e+00\n",
      "Epoch 18/100\n",
      "7000/7000 - 0s - loss: 9.6156e-04 - accuracy: 0.0000e+00\n",
      "Epoch 19/100\n",
      "7000/7000 - 0s - loss: 6.7053e-04 - accuracy: 0.0000e+00\n",
      "Epoch 20/100\n",
      "7000/7000 - 1s - loss: 4.9589e-04 - accuracy: 0.0000e+00\n",
      "Epoch 21/100\n",
      "7000/7000 - 0s - loss: 4.0442e-04 - accuracy: 0.0000e+00\n",
      "Epoch 22/100\n",
      "7000/7000 - 0s - loss: 3.6191e-04 - accuracy: 0.0000e+00\n",
      "Epoch 23/100\n",
      "7000/7000 - 0s - loss: 3.3299e-04 - accuracy: 0.0000e+00\n",
      "Epoch 24/100\n",
      "7000/7000 - 0s - loss: 2.9849e-04 - accuracy: 0.0000e+00\n",
      "Epoch 25/100\n",
      "7000/7000 - 1s - loss: 2.6214e-04 - accuracy: 0.0000e+00\n",
      "Epoch 26/100\n",
      "7000/7000 - 0s - loss: 2.2421e-04 - accuracy: 0.0000e+00\n",
      "Epoch 27/100\n",
      "7000/7000 - 0s - loss: 1.7699e-04 - accuracy: 0.0000e+00\n",
      "Epoch 28/100\n",
      "7000/7000 - 0s - loss: 1.5444e-04 - accuracy: 0.0000e+00\n",
      "Epoch 29/100\n",
      "7000/7000 - 0s - loss: 1.4191e-04 - accuracy: 0.0000e+00\n",
      "Epoch 30/100\n",
      "7000/7000 - 0s - loss: 1.2341e-04 - accuracy: 0.0000e+00\n",
      "Epoch 31/100\n",
      "7000/7000 - 0s - loss: 1.1367e-04 - accuracy: 0.0000e+00\n",
      "Epoch 32/100\n",
      "7000/7000 - 0s - loss: 1.0738e-04 - accuracy: 0.0000e+00\n",
      "Epoch 33/100\n",
      "7000/7000 - 0s - loss: 1.0424e-04 - accuracy: 0.0000e+00\n",
      "Epoch 34/100\n",
      "7000/7000 - 0s - loss: 9.4493e-05 - accuracy: 0.0000e+00\n",
      "Epoch 35/100\n",
      "7000/7000 - 0s - loss: 8.7209e-05 - accuracy: 0.0000e+00\n",
      "Epoch 36/100\n",
      "7000/7000 - 0s - loss: 8.9946e-05 - accuracy: 0.0000e+00\n",
      "Epoch 37/100\n",
      "7000/7000 - 0s - loss: 8.4151e-05 - accuracy: 0.0000e+00\n",
      "Epoch 38/100\n",
      "7000/7000 - 1s - loss: 8.5537e-05 - accuracy: 0.0000e+00\n",
      "Epoch 39/100\n",
      "7000/7000 - 0s - loss: 7.9518e-05 - accuracy: 0.0000e+00\n",
      "Epoch 40/100\n",
      "7000/7000 - 0s - loss: 7.7355e-05 - accuracy: 0.0000e+00\n",
      "Epoch 41/100\n",
      "7000/7000 - 0s - loss: 7.2921e-05 - accuracy: 0.0000e+00\n",
      "Epoch 42/100\n",
      "7000/7000 - 0s - loss: 7.2398e-05 - accuracy: 0.0000e+00\n",
      "Epoch 43/100\n",
      "7000/7000 - 0s - loss: 7.1946e-05 - accuracy: 0.0000e+00\n",
      "Epoch 44/100\n",
      "7000/7000 - 0s - loss: 7.2696e-05 - accuracy: 0.0000e+00\n",
      "Epoch 45/100\n",
      "7000/7000 - 0s - loss: 6.8288e-05 - accuracy: 0.0000e+00\n",
      "Epoch 46/100\n",
      "7000/7000 - 0s - loss: 6.7813e-05 - accuracy: 0.0000e+00\n",
      "Epoch 47/100\n",
      "7000/7000 - 0s - loss: 7.2046e-05 - accuracy: 0.0000e+00\n",
      "Epoch 48/100\n",
      "7000/7000 - 0s - loss: 7.0414e-05 - accuracy: 0.0000e+00\n",
      "Epoch 49/100\n",
      "7000/7000 - 0s - loss: 6.8532e-05 - accuracy: 0.0000e+00\n",
      "Epoch 50/100\n",
      "7000/7000 - 0s - loss: 6.4760e-05 - accuracy: 0.0000e+00\n",
      "Epoch 51/100\n",
      "7000/7000 - 0s - loss: 6.9978e-05 - accuracy: 0.0000e+00\n",
      "Epoch 52/100\n",
      "7000/7000 - 0s - loss: 7.2470e-05 - accuracy: 0.0000e+00\n",
      "Epoch 53/100\n",
      "7000/7000 - 0s - loss: 6.8580e-05 - accuracy: 0.0000e+00\n",
      "Epoch 54/100\n",
      "7000/7000 - 0s - loss: 6.8340e-05 - accuracy: 0.0000e+00\n",
      "Epoch 55/100\n",
      "7000/7000 - 0s - loss: 6.8572e-05 - accuracy: 0.0000e+00\n",
      "Epoch 56/100\n",
      "7000/7000 - 0s - loss: 6.9918e-05 - accuracy: 0.0000e+00\n",
      "Epoch 57/100\n",
      "7000/7000 - 0s - loss: 6.5896e-05 - accuracy: 0.0000e+00\n",
      "Epoch 58/100\n",
      "7000/7000 - 0s - loss: 6.5299e-05 - accuracy: 0.0000e+00\n",
      "Epoch 59/100\n",
      "7000/7000 - 0s - loss: 6.6548e-05 - accuracy: 0.0000e+00\n",
      "Epoch 60/100\n",
      "7000/7000 - 0s - loss: 6.3721e-05 - accuracy: 0.0000e+00\n",
      "Epoch 61/100\n",
      "7000/7000 - 0s - loss: 6.5320e-05 - accuracy: 0.0000e+00\n",
      "Epoch 62/100\n",
      "7000/7000 - 0s - loss: 6.6535e-05 - accuracy: 0.0000e+00\n",
      "Epoch 63/100\n",
      "7000/7000 - 1s - loss: 6.9119e-05 - accuracy: 0.0000e+00\n",
      "Epoch 64/100\n",
      "7000/7000 - 0s - loss: 6.4429e-05 - accuracy: 0.0000e+00\n",
      "Epoch 65/100\n",
      "7000/7000 - 0s - loss: 6.5156e-05 - accuracy: 0.0000e+00\n",
      "Epoch 66/100\n",
      "7000/7000 - 0s - loss: 7.2856e-05 - accuracy: 0.0000e+00\n",
      "Epoch 67/100\n",
      "7000/7000 - 0s - loss: 6.4273e-05 - accuracy: 0.0000e+00\n",
      "Epoch 68/100\n",
      "7000/7000 - 0s - loss: 6.7672e-05 - accuracy: 0.0000e+00\n",
      "Epoch 69/100\n",
      "7000/7000 - 0s - loss: 6.7717e-05 - accuracy: 0.0000e+00\n",
      "Epoch 70/100\n",
      "7000/7000 - 0s - loss: 6.5636e-05 - accuracy: 0.0000e+00\n",
      "Epoch 71/100\n",
      "7000/7000 - 0s - loss: 6.2267e-05 - accuracy: 0.0000e+00\n",
      "Epoch 72/100\n",
      "7000/7000 - 0s - loss: 6.3600e-05 - accuracy: 0.0000e+00\n",
      "Epoch 73/100\n",
      "7000/7000 - 0s - loss: 7.2387e-05 - accuracy: 0.0000e+00\n",
      "Epoch 74/100\n",
      "7000/7000 - 0s - loss: 6.7223e-05 - accuracy: 0.0000e+00\n",
      "Epoch 75/100\n",
      "7000/7000 - 0s - loss: 7.9190e-05 - accuracy: 0.0000e+00\n",
      "Epoch 76/100\n",
      "7000/7000 - 0s - loss: 7.1277e-05 - accuracy: 0.0000e+00\n",
      "Epoch 77/100\n",
      "7000/7000 - 0s - loss: 7.3390e-05 - accuracy: 0.0000e+00\n",
      "Epoch 78/100\n",
      "7000/7000 - 0s - loss: 6.2301e-05 - accuracy: 0.0000e+00\n",
      "Epoch 79/100\n",
      "7000/7000 - 0s - loss: 7.5688e-05 - accuracy: 0.0000e+00\n",
      "Epoch 80/100\n",
      "7000/7000 - 0s - loss: 5.8760e-05 - accuracy: 0.0000e+00\n",
      "Epoch 81/100\n",
      "7000/7000 - 0s - loss: 7.0744e-05 - accuracy: 0.0000e+00\n",
      "Epoch 82/100\n",
      "7000/7000 - 0s - loss: 6.2889e-05 - accuracy: 0.0000e+00\n",
      "Epoch 83/100\n",
      "7000/7000 - 0s - loss: 6.5959e-05 - accuracy: 0.0000e+00\n",
      "Epoch 84/100\n",
      "7000/7000 - 0s - loss: 6.4797e-05 - accuracy: 0.0000e+00\n",
      "Epoch 85/100\n",
      "7000/7000 - 0s - loss: 6.0739e-05 - accuracy: 0.0000e+00\n",
      "Epoch 86/100\n",
      "7000/7000 - 0s - loss: 6.6833e-05 - accuracy: 0.0000e+00\n",
      "Epoch 87/100\n",
      "7000/7000 - 0s - loss: 7.2050e-05 - accuracy: 0.0000e+00\n",
      "Epoch 88/100\n",
      "7000/7000 - 0s - loss: 6.5298e-05 - accuracy: 0.0000e+00\n",
      "Epoch 89/100\n",
      "7000/7000 - 0s - loss: 6.6307e-05 - accuracy: 0.0000e+00\n",
      "Epoch 90/100\n",
      "7000/7000 - 0s - loss: 6.1154e-05 - accuracy: 0.0000e+00\n",
      "Epoch 91/100\n",
      "7000/7000 - 0s - loss: 6.1491e-05 - accuracy: 0.0000e+00\n",
      "Epoch 92/100\n",
      "7000/7000 - 0s - loss: 6.9082e-05 - accuracy: 0.0000e+00\n",
      "Epoch 93/100\n",
      "7000/7000 - 0s - loss: 6.3993e-05 - accuracy: 0.0000e+00\n",
      "Epoch 94/100\n",
      "7000/7000 - 0s - loss: 6.9457e-05 - accuracy: 0.0000e+00\n",
      "Epoch 95/100\n",
      "7000/7000 - 0s - loss: 6.3930e-05 - accuracy: 0.0000e+00\n",
      "Epoch 96/100\n",
      "7000/7000 - 0s - loss: 6.8719e-05 - accuracy: 0.0000e+00\n",
      "Epoch 97/100\n",
      "7000/7000 - 0s - loss: 6.7870e-05 - accuracy: 0.0000e+00\n",
      "Epoch 98/100\n",
      "7000/7000 - 0s - loss: 5.8950e-05 - accuracy: 0.0000e+00\n",
      "Epoch 99/100\n",
      "7000/7000 - 0s - loss: 6.4450e-05 - accuracy: 0.0000e+00\n",
      "Epoch 100/100\n",
      "7000/7000 - 0s - loss: 6.0699e-05 - accuracy: 0.0000e+00\n",
      "Elapsed Time  28.31143310799962\n"
     ]
    }
   ],
   "source": [
    "import timeit\n",
    "start_time = timeit.default_timer()\n",
    "\n",
    "#Fitting the model in our Training data\n",
    "mlp_regrassor.fit(X_train,Y_train,batch_size = 50,epochs = 100,verbose = 2)\n",
    "elapsed = timeit.default_timer() - start_time\n",
    "\n",
    "print(\"Elapsed Time \",elapsed)"
   ]
  },
  {
   "cell_type": "code",
   "execution_count": 36,
   "metadata": {},
   "outputs": [
    {
     "data": {
      "text/plain": [
       "0.9874489979894401"
      ]
     },
     "execution_count": 36,
     "metadata": {},
     "output_type": "execute_result"
    }
   ],
   "source": [
    "#Evaluate the model\n",
    "from sklearn.metrics import r2_score\n",
    "Y_prediction = mlp_regrassor.predict(X_test)\n",
    "r2_score(Y_test,Y_prediction)"
   ]
  },
  {
   "cell_type": "code",
   "execution_count": 23,
   "metadata": {},
   "outputs": [
    {
     "name": "stdout",
     "output_type": "stream",
     "text": [
      "[[2.0325084]\n",
      " [2.2090893]\n",
      " [2.1344633]\n",
      " ...\n",
      " [2.0346498]\n",
      " [2.0473123]\n",
      " [2.0938544]]\n"
     ]
    }
   ],
   "source": [
    "print(Y_prediction)"
   ]
  },
  {
   "cell_type": "code",
   "execution_count": 20,
   "metadata": {},
   "outputs": [
    {
     "name": "stdout",
     "output_type": "stream",
     "text": [
      "[2.00961997 2.19318325 2.09758335 ... 2.00976061 2.09758898 2.10031136]\n"
     ]
    }
   ],
   "source": [
    "print(Y_test)"
   ]
  },
  {
   "cell_type": "code",
   "execution_count": null,
   "metadata": {},
   "outputs": [],
   "source": []
  }
 ],
 "metadata": {
  "kernelspec": {
   "display_name": "Python 3",
   "language": "python",
   "name": "python3"
  },
  "language_info": {
   "codemirror_mode": {
    "name": "ipython",
    "version": 3
   },
   "file_extension": ".py",
   "mimetype": "text/x-python",
   "name": "python",
   "nbconvert_exporter": "python",
   "pygments_lexer": "ipython3",
   "version": "3.6.9"
  }
 },
 "nbformat": 4,
 "nbformat_minor": 4
}
