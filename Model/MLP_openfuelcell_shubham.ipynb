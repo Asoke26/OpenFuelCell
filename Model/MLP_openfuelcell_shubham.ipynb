{
 "cells": [
  {
   "cell_type": "code",
   "execution_count": 1,
   "metadata": {
    "collapsed": true
   },
   "outputs": [],
   "source": [
    "import tensorflow as tf\n",
    "import pandas as pd\n",
    "from sklearn.model_selection import train_test_split"
   ]
  },
  {
   "cell_type": "code",
   "execution_count": 2,
   "metadata": {
    "collapsed": true
   },
   "outputs": [],
   "source": [
    "data=pd.read_csv(\"H:\\keras_output.csv\")"
   ]
  },
  {
   "cell_type": "code",
   "execution_count": 3,
   "metadata": {
    "collapsed": true
   },
   "outputs": [],
   "source": [
    "input=['Tair_min','Tair_mean','Tair_max','Tfuel_min','Tfuel_mean','Tfuel_max','rhoAir_min','rhoAir_mean','rhoAir_max','rhoFuel_min','rhoFuel_mean',\n",
    " 'rhoFuel_max','muAir_min','muAir_mean','muAir_max','muFuel_min','muFuel_mean','muFuel_max','nuAir_min','nuAir_mean','nuAir_max','nuFuel_min','nuFuel_mean','nuFuel_max',\n",
    "   'kAir_min', 'kAir_mean', 'kAir_max', 'kFuel_min', 'kFuel_mean', 'kFuel_max', 'sumVolume', 'Nern_min', 'Nern_max', 'ibar0', 'ibar'\n",
    "    , 'stack_Voltage', 'min_curr','mean_curr','max_curr', 'Energy_Ir', 'Energy_Fr', 'Energy_t_min',  'Energy_t_max']\n",
    "\n",
    "output=['V','Energy_t_mean']\n",
    "\n",
    "X=data[input]\n",
    "Y=data[output]\n"
   ]
  },
  {
   "cell_type": "code",
   "execution_count": 4,
   "metadata": {
    "collapsed": true
   },
   "outputs": [],
   "source": [
    "train_x,test_x,train_y,test_y=train_test_split(X,Y,test_size=0.3,random_state=3)"
   ]
  },
  {
   "cell_type": "code",
   "execution_count": 9,
   "metadata": {},
   "outputs": [],
   "source": [
    "df=pd.DataFrame(train_x)\n",
    "model=tf.keras.Sequential([tf.keras.layers.Dense(43,input_shape=(43,)),\n",
    "                           tf.keras.layers.Dense(32, activation='relu'),\n",
    "                           tf.keras.layers.Dense(2,activation='softmax')])"
   ]
  },
  {
   "cell_type": "code",
   "execution_count": 10,
   "metadata": {
    "collapsed": true
   },
   "outputs": [],
   "source": [
    "model.compile(optimizer='sgd',\n",
    "              loss=tf.keras.losses.mse,\n",
    "              metrics=['accuracy'])"
   ]
  },
  {
   "cell_type": "code",
   "execution_count": 11,
   "metadata": {},
   "outputs": [
    {
     "name": "stdout",
     "output_type": "stream",
     "text": [
      "WARNING:tensorflow:Falling back from v2 loop because of error: Failed to find data adapter that can handle input: <class 'pandas.core.frame.DataFrame'>, <class 'NoneType'>\n",
      "Train on 310 samples\n",
      "Epoch 1/5\n",
      "310/310 [==============================] - 1s 5ms/sample - loss: 1487604.7226 - accuracy: 0.9161\n",
      "Epoch 2/5\n",
      "310/310 [==============================] - 0s 52us/sample - loss: 1487475.2169 - accuracy: 1.0000\n",
      "Epoch 3/5\n",
      "310/310 [==============================] - 0s 64us/sample - loss: 1487475.1976 - accuracy: 1.0000\n",
      "Epoch 4/5\n",
      "310/310 [==============================] - 0s 65us/sample - loss: 1487475.2298 - accuracy: 1.0000\n",
      "Epoch 5/5\n",
      "310/310 [==============================] - 0s 65us/sample - loss: 1487475.2355 - accuracy: 1.0000\n"
     ]
    },
    {
     "data": {
      "text/plain": [
       "<tensorflow.python.keras.callbacks.History at 0x28fd34b4cc0>"
      ]
     },
     "execution_count": 11,
     "metadata": {},
     "output_type": "execute_result"
    }
   ],
   "source": [
    "model.fit(train_x,train_y,epochs=5)"
   ]
  },
  {
   "cell_type": "code",
   "execution_count": 12,
   "metadata": {},
   "outputs": [
    {
     "name": "stdout",
     "output_type": "stream",
     "text": [
      "WARNING:tensorflow:Falling back from v2 loop because of error: Failed to find data adapter that can handle input: <class 'pandas.core.frame.DataFrame'>, <class 'NoneType'>\n",
      "133/133 - 0s - loss: 1439865.8289 - accuracy: 1.0000\n"
     ]
    }
   ],
   "source": [
    "test_loss, test_acc = model.evaluate(test_x,  test_y, verbose=2)"
   ]
  }
 ],
 "metadata": {
  "kernelspec": {
   "display_name": "Python 3",
   "language": "python",
   "name": "python3"
  },
  "language_info": {
   "codemirror_mode": {
    "name": "ipython",
    "version": 3
   },
   "file_extension": ".py",
   "mimetype": "text/x-python",
   "name": "python",
   "nbconvert_exporter": "python",
   "pygments_lexer": "ipython3",
   "version": "3.6.8"
  }
 },
 "nbformat": 4,
 "nbformat_minor": 2
}
