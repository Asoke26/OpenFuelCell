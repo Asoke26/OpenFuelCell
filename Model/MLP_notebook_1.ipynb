{
 "cells": [
  {
   "cell_type": "code",
   "execution_count": 2,
   "metadata": {},
   "outputs": [],
   "source": [
    "# Importing Required Library\n",
    "import numpy as np\n",
    "import tensorflow as tf\n",
    "import matplotlib.pyplot as plt"
   ]
  },
  {
   "cell_type": "code",
   "execution_count": 4,
   "metadata": {},
   "outputs": [],
   "source": [
    "# Importing the dataset \n",
    "import pandas as pd\n",
    "dataset = pd.read_csv('/mnt/c/Users/Ashok/Documents/EECS245/OpenFuelCell/Data/quicktestStack-formatted-output.csv')\n",
    "dataset.drop('stack_Voltage', axis=1, inplace=True)\n",
    "dataset.drop('ibar0', axis=1, inplace=True)\n",
    "dataset.drop(0, axis=0, inplace=True)\n",
    "dataset.drop('Time', axis=1, inplace=True)\n",
    "dataset.drop('sumVolume', axis=1, inplace=True)\n",
    "dataset.drop('Energy_Fr', axis=1, inplace=True)\n",
    "X = dataset.iloc[:,0:40].values\n",
    "Y = dataset.iloc[:,40].values"
   ]
  },
  {
   "cell_type": "code",
   "execution_count": 5,
   "metadata": {},
   "outputs": [],
   "source": [
    "# Splitting the dataset into the Training set and Test set\n",
    "from sklearn.model_selection import train_test_split\n",
    "X_train, X_test,Y_train, Y_test = train_test_split(X, Y, test_size = 0.2, random_state = 0)"
   ]
  },
  {
   "cell_type": "code",
   "execution_count": 6,
   "metadata": {},
   "outputs": [],
   "source": [
    "# Feature Scaling\n",
    "from sklearn.preprocessing import StandardScaler\n",
    "sc = StandardScaler()\n",
    "X_train = sc.fit_transform(X_train)\n",
    "X_test = sc.transform(X_test)"
   ]
  },
  {
   "cell_type": "code",
   "execution_count": 7,
   "metadata": {},
   "outputs": [],
   "source": [
    "# Importing the Keras libraries and packages\n",
    "import tensorflow.keras\n",
    "from tensorflow.keras.models import Sequential\n",
    "from tensorflow.keras.layers import Dense"
   ]
  },
  {
   "cell_type": "code",
   "execution_count": 14,
   "metadata": {},
   "outputs": [],
   "source": [
    "# Initialising the ANN\n",
    "mlp_regrassor = Sequential()"
   ]
  },
  {
   "cell_type": "code",
   "execution_count": 15,
   "metadata": {},
   "outputs": [],
   "source": [
    "#Add hidden layer\n",
    "mlp_regrassor.add(Dense(units=256,kernel_initializer='uniform',activation='relu',input_shape=(40,)))\n",
    "mlp_regrassor.add(Dense(units=128,kernel_initializer='uniform',activation='relu'))"
   ]
  },
  {
   "cell_type": "code",
   "execution_count": 16,
   "metadata": {},
   "outputs": [],
   "source": [
    "# Add output layer\n",
    "mlp_regrassor.add(Dense(units=1,kernel_initializer='uniform',activation='linear'))"
   ]
  },
  {
   "cell_type": "code",
   "execution_count": 17,
   "metadata": {},
   "outputs": [],
   "source": [
    "#Compiling the ANN model\n",
    "mlp_regrassor.compile(opimizer='adam',loss = 'mean_squared_error',matrics=['mean_absolute_error'])"
   ]
  },
  {
   "cell_type": "code",
   "execution_count": 18,
   "metadata": {},
   "outputs": [
    {
     "name": "stdout",
     "output_type": "stream",
     "text": [
      "Train on 2088 samples\n",
      "Epoch 1/100\n",
      "2088/2088 - 1s - loss: 0.2925\n",
      "Epoch 2/100\n",
      "2088/2088 - 0s - loss: 0.0201\n",
      "Epoch 3/100\n",
      "2088/2088 - 0s - loss: 0.0078\n",
      "Epoch 4/100\n",
      "2088/2088 - 0s - loss: 0.0044\n",
      "Epoch 5/100\n",
      "2088/2088 - 0s - loss: 0.0032\n",
      "Epoch 6/100\n",
      "2088/2088 - 0s - loss: 0.0028\n",
      "Epoch 7/100\n",
      "2088/2088 - 0s - loss: 0.0021\n",
      "Epoch 8/100\n",
      "2088/2088 - 0s - loss: 0.0026\n",
      "Epoch 9/100\n",
      "2088/2088 - 0s - loss: 0.0022\n",
      "Epoch 10/100\n",
      "2088/2088 - 0s - loss: 0.0029\n",
      "Epoch 11/100\n",
      "2088/2088 - 0s - loss: 0.0021\n",
      "Epoch 12/100\n",
      "2088/2088 - 0s - loss: 0.0027\n",
      "Epoch 13/100\n",
      "2088/2088 - 0s - loss: 0.0017\n",
      "Epoch 14/100\n",
      "2088/2088 - 0s - loss: 0.0016\n",
      "Epoch 15/100\n",
      "2088/2088 - 0s - loss: 0.0021\n",
      "Epoch 16/100\n",
      "2088/2088 - 0s - loss: 0.0013\n",
      "Epoch 17/100\n",
      "2088/2088 - 0s - loss: 0.0014\n",
      "Epoch 18/100\n",
      "2088/2088 - 0s - loss: 0.0012\n",
      "Epoch 19/100\n",
      "2088/2088 - 0s - loss: 0.0014\n",
      "Epoch 20/100\n",
      "2088/2088 - 0s - loss: 0.0013\n",
      "Epoch 21/100\n",
      "2088/2088 - 0s - loss: 0.0015\n",
      "Epoch 22/100\n",
      "2088/2088 - 0s - loss: 0.0012\n",
      "Epoch 23/100\n",
      "2088/2088 - 0s - loss: 0.0015\n",
      "Epoch 24/100\n",
      "2088/2088 - 0s - loss: 0.0012\n",
      "Epoch 25/100\n",
      "2088/2088 - 0s - loss: 8.7916e-04\n",
      "Epoch 26/100\n",
      "2088/2088 - 0s - loss: 9.6741e-04\n",
      "Epoch 27/100\n",
      "2088/2088 - 0s - loss: 0.0011\n",
      "Epoch 28/100\n",
      "2088/2088 - 0s - loss: 7.4008e-04\n",
      "Epoch 29/100\n",
      "2088/2088 - 0s - loss: 7.4037e-04\n",
      "Epoch 30/100\n",
      "2088/2088 - 0s - loss: 6.9579e-04\n",
      "Epoch 31/100\n",
      "2088/2088 - 0s - loss: 6.8459e-04\n",
      "Epoch 32/100\n",
      "2088/2088 - 0s - loss: 8.9625e-04\n",
      "Epoch 33/100\n",
      "2088/2088 - 0s - loss: 0.0012\n",
      "Epoch 34/100\n",
      "2088/2088 - 0s - loss: 5.2918e-04\n",
      "Epoch 35/100\n",
      "2088/2088 - 0s - loss: 0.0011\n",
      "Epoch 36/100\n",
      "2088/2088 - 0s - loss: 7.7610e-04\n",
      "Epoch 37/100\n",
      "2088/2088 - 0s - loss: 5.2192e-04\n",
      "Epoch 38/100\n",
      "2088/2088 - 0s - loss: 5.7909e-04\n",
      "Epoch 39/100\n",
      "2088/2088 - 0s - loss: 4.9172e-04\n",
      "Epoch 40/100\n",
      "2088/2088 - 0s - loss: 5.7988e-04\n",
      "Epoch 41/100\n",
      "2088/2088 - 0s - loss: 4.9803e-04\n",
      "Epoch 42/100\n",
      "2088/2088 - 0s - loss: 6.6459e-04\n",
      "Epoch 43/100\n",
      "2088/2088 - 0s - loss: 6.8843e-04\n",
      "Epoch 44/100\n",
      "2088/2088 - 0s - loss: 4.4339e-04\n",
      "Epoch 45/100\n",
      "2088/2088 - 0s - loss: 4.5574e-04\n",
      "Epoch 46/100\n",
      "2088/2088 - 0s - loss: 4.4170e-04\n",
      "Epoch 47/100\n",
      "2088/2088 - 0s - loss: 3.8413e-04\n",
      "Epoch 48/100\n",
      "2088/2088 - 0s - loss: 3.9040e-04\n",
      "Epoch 49/100\n",
      "2088/2088 - 0s - loss: 4.6750e-04\n",
      "Epoch 50/100\n",
      "2088/2088 - 0s - loss: 3.7967e-04\n",
      "Epoch 51/100\n",
      "2088/2088 - 0s - loss: 4.4572e-04\n",
      "Epoch 52/100\n",
      "2088/2088 - 0s - loss: 4.8107e-04\n",
      "Epoch 53/100\n",
      "2088/2088 - 0s - loss: 5.0383e-04\n",
      "Epoch 54/100\n",
      "2088/2088 - 0s - loss: 3.8393e-04\n",
      "Epoch 55/100\n",
      "2088/2088 - 0s - loss: 3.9804e-04\n",
      "Epoch 56/100\n",
      "2088/2088 - 0s - loss: 4.8960e-04\n",
      "Epoch 57/100\n",
      "2088/2088 - 0s - loss: 4.0979e-04\n",
      "Epoch 58/100\n",
      "2088/2088 - 0s - loss: 5.6316e-04\n",
      "Epoch 59/100\n",
      "2088/2088 - 0s - loss: 3.1775e-04\n",
      "Epoch 60/100\n",
      "2088/2088 - 0s - loss: 3.9174e-04\n",
      "Epoch 61/100\n",
      "2088/2088 - 0s - loss: 3.2059e-04\n",
      "Epoch 62/100\n",
      "2088/2088 - 0s - loss: 2.8360e-04\n",
      "Epoch 63/100\n",
      "2088/2088 - 0s - loss: 3.9981e-04\n",
      "Epoch 64/100\n",
      "2088/2088 - 0s - loss: 2.5694e-04\n",
      "Epoch 65/100\n",
      "2088/2088 - 0s - loss: 3.7088e-04\n",
      "Epoch 66/100\n",
      "2088/2088 - 0s - loss: 2.8925e-04\n",
      "Epoch 67/100\n",
      "2088/2088 - 0s - loss: 3.2993e-04\n",
      "Epoch 68/100\n",
      "2088/2088 - 0s - loss: 2.2924e-04\n",
      "Epoch 69/100\n",
      "2088/2088 - 0s - loss: 2.8654e-04\n",
      "Epoch 70/100\n",
      "2088/2088 - 0s - loss: 5.1686e-04\n",
      "Epoch 71/100\n",
      "2088/2088 - 0s - loss: 3.9756e-04\n",
      "Epoch 72/100\n",
      "2088/2088 - 0s - loss: 3.2381e-04\n",
      "Epoch 73/100\n",
      "2088/2088 - 0s - loss: 2.8083e-04\n",
      "Epoch 74/100\n",
      "2088/2088 - 0s - loss: 3.0514e-04\n",
      "Epoch 75/100\n",
      "2088/2088 - 0s - loss: 2.0741e-04\n",
      "Epoch 76/100\n",
      "2088/2088 - 0s - loss: 3.0906e-04\n",
      "Epoch 77/100\n",
      "2088/2088 - 0s - loss: 2.3062e-04\n",
      "Epoch 78/100\n",
      "2088/2088 - 0s - loss: 4.1627e-04\n",
      "Epoch 79/100\n",
      "2088/2088 - 0s - loss: 3.0441e-04\n",
      "Epoch 80/100\n",
      "2088/2088 - 0s - loss: 2.6598e-04\n",
      "Epoch 81/100\n",
      "2088/2088 - 0s - loss: 3.1238e-04\n",
      "Epoch 82/100\n",
      "2088/2088 - 0s - loss: 4.1114e-04\n",
      "Epoch 83/100\n",
      "2088/2088 - 0s - loss: 2.4590e-04\n",
      "Epoch 84/100\n",
      "2088/2088 - 0s - loss: 1.8304e-04\n",
      "Epoch 85/100\n",
      "2088/2088 - 0s - loss: 1.9782e-04\n",
      "Epoch 86/100\n",
      "2088/2088 - 0s - loss: 2.2458e-04\n",
      "Epoch 87/100\n",
      "2088/2088 - 0s - loss: 1.6065e-04\n",
      "Epoch 88/100\n",
      "2088/2088 - 0s - loss: 2.4876e-04\n",
      "Epoch 89/100\n",
      "2088/2088 - 0s - loss: 1.6916e-04\n",
      "Epoch 90/100\n",
      "2088/2088 - 0s - loss: 1.5437e-04\n",
      "Epoch 91/100\n",
      "2088/2088 - 0s - loss: 1.9863e-04\n",
      "Epoch 92/100\n",
      "2088/2088 - 0s - loss: 2.4575e-04\n",
      "Epoch 93/100\n",
      "2088/2088 - 0s - loss: 2.0223e-04\n",
      "Epoch 94/100\n",
      "2088/2088 - 0s - loss: 1.5142e-04\n",
      "Epoch 95/100\n",
      "2088/2088 - 0s - loss: 2.0313e-04\n",
      "Epoch 96/100\n",
      "2088/2088 - 0s - loss: 2.8804e-04\n",
      "Epoch 97/100\n",
      "2088/2088 - 0s - loss: 1.5385e-04\n",
      "Epoch 98/100\n",
      "2088/2088 - 0s - loss: 2.7757e-04\n",
      "Epoch 99/100\n",
      "2088/2088 - 0s - loss: 1.5406e-04\n",
      "Epoch 100/100\n",
      "2088/2088 - 0s - loss: 1.9494e-04\n"
     ]
    },
    {
     "data": {
      "text/plain": [
       "<tensorflow.python.keras.callbacks.History at 0x7f366067d128>"
      ]
     },
     "execution_count": 18,
     "metadata": {},
     "output_type": "execute_result"
    }
   ],
   "source": [
    "#Fitting the model in our Training data\n",
    "mlp_regrassor.fit(X_train,Y_train,batch_size = 10,epochs = 100,verbose = 2)"
   ]
  },
  {
   "cell_type": "code",
   "execution_count": 19,
   "metadata": {},
   "outputs": [
    {
     "data": {
      "text/plain": [
       "-36.709759887102656"
      ]
     },
     "execution_count": 19,
     "metadata": {},
     "output_type": "execute_result"
    }
   ],
   "source": [
    "#Evaluate the model\n",
    "from sklearn.metrics import r2_score\n",
    "Y_prediction = mlp_regrassor.predict(X_test)\n",
    "r2_score(Y_test,Y_prediction)"
   ]
  },
  {
   "cell_type": "code",
   "execution_count": 21,
   "metadata": {},
   "outputs": [
    {
     "name": "stdout",
     "output_type": "stream",
     "text": [
      "523/1 - 0s - loss: 2.3805e-04\n"
     ]
    },
    {
     "data": {
      "text/plain": [
       "0.0003555738084310048"
      ]
     },
     "execution_count": 21,
     "metadata": {},
     "output_type": "execute_result"
    }
   ],
   "source": [
    "# Evaluate Model\n",
    "mlp_regrassor.evaluate(X_test,Y_test,verbose=2)"
   ]
  },
  {
   "cell_type": "code",
   "execution_count": null,
   "metadata": {},
   "outputs": [],
   "source": []
  }
 ],
 "metadata": {
  "kernelspec": {
   "display_name": "Python 3",
   "language": "python",
   "name": "python3"
  },
  "language_info": {
   "codemirror_mode": {
    "name": "ipython",
    "version": 3
   },
   "file_extension": ".py",
   "mimetype": "text/x-python",
   "name": "python",
   "nbconvert_exporter": "python",
   "pygments_lexer": "ipython3",
   "version": "3.6.8"
  }
 },
 "nbformat": 4,
 "nbformat_minor": 2
}
