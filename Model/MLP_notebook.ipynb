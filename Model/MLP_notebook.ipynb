{
 "cells": [
  {
   "cell_type": "code",
   "execution_count": 1,
   "metadata": {},
   "outputs": [],
   "source": [
    "import tensorflow as tf"
   ]
  },
  {
   "cell_type": "code",
   "execution_count": 32,
   "metadata": {},
   "outputs": [],
   "source": [
    "from tensorflow import keras"
   ]
  },
  {
   "cell_type": "code",
   "execution_count": 43,
   "metadata": {},
   "outputs": [],
   "source": [
    "from tensorflow.keras import layers"
   ]
  },
  {
   "cell_type": "code",
   "execution_count": 70,
   "metadata": {},
   "outputs": [],
   "source": [
    "import numpy as np"
   ]
  },
  {
   "cell_type": "code",
   "execution_count": 71,
   "metadata": {},
   "outputs": [],
   "source": [
    "import pandas as pd"
   ]
  },
  {
   "cell_type": "code",
   "execution_count": 72,
   "metadata": {},
   "outputs": [],
   "source": [
    "from sklearn.model_selection import train_test_split"
   ]
  },
  {
   "cell_type": "code",
   "execution_count": 73,
   "metadata": {},
   "outputs": [],
   "source": [
    "# Input Data\n",
    "input_file = \"/home/ad26/Projects/Fall-19/EECS-245/OpenFuelCell/Data/quicktestStack-formatted-output.csv\""
   ]
  },
  {
   "cell_type": "code",
   "execution_count": 74,
   "metadata": {},
   "outputs": [],
   "source": [
    "# read_input_csv = open(input_file,'r') \n",
    "quicktestStack_data = pd.read_csv(input_file,error_bad_lines=False) "
   ]
  },
  {
   "cell_type": "code",
   "execution_count": 75,
   "metadata": {},
   "outputs": [
    {
     "name": "stdout",
     "output_type": "stream",
     "text": [
      "columns  Index(['Time', 'Tair_min', 'Tair_mean', 'Tair_max', 'Tfuel_min', 'Tfuel_mean',\n",
      "       'Tfuel_max', 'rhoAir_min', 'rhoAir_mean', 'rhoAir_max', 'rhoFuel_min',\n",
      "       'rhoFuel_mean', 'rhoFuel_max', 'muAir_min', 'muAir_mean', 'muAir_max',\n",
      "       'muFuel_min', 'muFuel_mean', 'muFuel_max', 'nuAir_min', 'nuAir_mean',\n",
      "       'nuAir_max', 'nuFuel_min', 'nuFuel_mean', 'nuFuel_max', 'kAir_min',\n",
      "       'kAir_mean', 'kAir_max', 'kFuel_min', 'kFuel_mean', 'kFuel_max',\n",
      "       'sumVolume', 'Nern_min', 'Nern_max', 'ibar0', 'ibar', 'V',\n",
      "       'stack_Voltage', 'min_curr', 'mean_curr', 'max_curr', 'Energy_Ir',\n",
      "       'Energy_Fr', 'Energy_t_min', 'Energy_t_mean', 'Energy_t_max'],\n",
      "      dtype='object')\n"
     ]
    }
   ],
   "source": [
    "print(\"columns \",quicktestStack_data.columns)"
   ]
  },
  {
   "cell_type": "code",
   "execution_count": 76,
   "metadata": {},
   "outputs": [],
   "source": [
    "# Inputs for MLP model\n",
    "input_features = ['Time', 'Tair_min', 'Tair_mean', 'Tair_max', 'Tfuel_min', 'Tfuel_mean',\n",
    "       'Tfuel_max', 'rhoAir_min', 'rhoAir_mean', 'rhoAir_max', 'rhoFuel_min',\n",
    "       'rhoFuel_mean', 'rhoFuel_max', 'muAir_min', 'muAir_mean', 'muAir_max',\n",
    "       'muFuel_min', 'muFuel_mean', 'muFuel_max', 'nuAir_min', 'nuAir_mean',\n",
    "       'nuAir_max', 'nuFuel_min', 'nuFuel_mean', 'nuFuel_max', 'kAir_min',\n",
    "       'kAir_mean', 'kAir_max', 'kFuel_min', 'kFuel_mean', 'kFuel_max',\n",
    "       'sumVolume', 'Nern_min', 'Nern_max', 'ibar0', 'ibar', \n",
    "       'min_curr', 'max_curr', 'Energy_Ir', 'Energy_Fr',\n",
    "       'Energy_t_min', 'Energy_t_mean', 'Energy_t_max']"
   ]
  },
  {
   "cell_type": "code",
   "execution_count": 77,
   "metadata": {},
   "outputs": [],
   "source": [
    "# Prediction terget for MLP model\n",
    "predict_features = ['V','mean_curr']"
   ]
  },
  {
   "cell_type": "code",
   "execution_count": 78,
   "metadata": {},
   "outputs": [],
   "source": [
    "X = quicktestStack_data[input_features]\n",
    "Y = quicktestStack_data[predict_features]"
   ]
  },
  {
   "cell_type": "code",
   "execution_count": 79,
   "metadata": {},
   "outputs": [],
   "source": [
    "X_train,X_test,Y_train,Y_test = train_test_split(quicktestStack_data, Y, test_size=0.2)"
   ]
  },
  {
   "cell_type": "code",
   "execution_count": 80,
   "metadata": {},
   "outputs": [
    {
     "data": {
      "text/plain": [
       "array([[8.789449e-01, 5.213137e+03],\n",
       "       [8.789304e-01, 5.213152e+03],\n",
       "       [8.789368e-01, 5.213148e+03],\n",
       "       ...,\n",
       "       [8.789309e-01, 5.213150e+03],\n",
       "       [8.782618e-01, 5.225991e+03],\n",
       "       [8.934584e-01, 4.878011e+03]])"
      ]
     },
     "execution_count": 80,
     "metadata": {},
     "output_type": "execute_result"
    }
   ],
   "source": [
    "X_train.to_numpy()\n",
    "X_test.to_numpy()\n",
    "Y_train.to_numpy()\n",
    "Y_test.to_numpy()"
   ]
  },
  {
   "cell_type": "code",
   "execution_count": 81,
   "metadata": {},
   "outputs": [],
   "source": [
    "mlp_model = tf.keras.Sequential()"
   ]
  },
  {
   "cell_type": "code",
   "execution_count": 82,
   "metadata": {},
   "outputs": [],
   "source": [
    "# Adds a densely-connected layer with 64 units to the model:\n",
    "mlp_model.add(layers.Dense(64, activation='relu'))"
   ]
  },
  {
   "cell_type": "code",
   "execution_count": 83,
   "metadata": {},
   "outputs": [],
   "source": [
    "# Add another:\n",
    "mlp_model.add(layers.Dense(64, activation='relu'))"
   ]
  },
  {
   "cell_type": "code",
   "execution_count": 84,
   "metadata": {},
   "outputs": [],
   "source": [
    "# Add a softmax layer with 10 output units:\n",
    "mlp_model.add(layers.Dense(10, activation='softmax'))"
   ]
  },
  {
   "cell_type": "code",
   "execution_count": 85,
   "metadata": {},
   "outputs": [],
   "source": [
    "mlp_model.compile(optimizer=tf.keras.optimizers.Adam(0.01),\n",
    "              loss='categorical_crossentropy',\n",
    "              metrics=['accuracy'])"
   ]
  },
  {
   "cell_type": "code",
   "execution_count": 88,
   "metadata": {},
   "outputs": [
    {
     "name": "stdout",
     "output_type": "stream",
     "text": [
      "WARNING:tensorflow:Falling back from v2 loop because of error: Failed to find data adapter that can handle input: <class 'pandas.core.frame.DataFrame'>, <class 'NoneType'>\n"
     ]
    },
    {
     "ename": "ValueError",
     "evalue": "Please provide as model inputs either a single array or a list of arrays. You passed: inputs=      Time  Tair_min  Tair_mean  Tair_max  Tfuel_min  Tfuel_mean  Tfuel_max  \\\n2343  2344  1001.830   1090.801  1097.090   1030.257    1092.956   1097.088   \n2178  2179  1001.830   1090.801  1097.090   1030.257    1092.956   1097.088   \n1258  1259  1001.830   1090.801  1097.090   1030.257    1092.956   1097.088   \n2571  2572  1001.830   1090.801  1097.090   1030.257    1092.956   1097.088   \n591    592  1001.830   1090.804  1097.093   1030.257    1092.959   1097.091   \n...    ...       ...        ...       ...        ...         ...        ...   \n1349  1350  1001.830   1090.801  1097.090   1030.257    1092.956   1097.088   \n162    163  1001.828   1090.818  1097.132   1030.242    1092.993   1097.131   \n1504  1505  1001.830   1090.801  1097.090   1030.257    1092.956   1097.088   \n2302  2303  1001.830   1090.801  1097.090   1030.257    1092.956   1097.089   \n146    147  1001.828   1090.828  1097.145   1030.243    1093.005   1097.143   \n\n      rhoAir_min  rhoAir_mean  rhoAir_max  ...         V  stack_Voltage  \\\n2343    0.314271     0.320841    0.350999  ...  0.878930       0.878930   \n2178    0.314272     0.320841    0.350999  ...  0.878930       0.878930   \n1258    0.314271     0.320841    0.350999  ...  0.878931       0.878931   \n2571    0.314271     0.320841    0.350999  ...  0.878930       0.878930   \n591     0.314270     0.320840    0.350999  ...  0.878938       0.878938   \n...          ...          ...         ...  ...       ...            ...   \n1349    0.314271     0.320841    0.350999  ...  0.878931       0.878931   \n162     0.314259     0.320836    0.351000  ...  0.879007       0.879007   \n1504    0.314271     0.320841    0.350999  ...  0.878931       0.878931   \n2302    0.314271     0.320841    0.350999  ...  0.878931       0.878931   \n146     0.314255     0.320833    0.351000  ...  0.879019       0.879019   \n\n      min_curr  mean_curr  max_curr  Energy_Ir     Energy_Fr  Energy_t_min  \\\n2343  4359.526   5213.151  6091.002   0.000450  4.807456e-11      1001.830   \n2178  4359.527   5213.151  6091.003   0.000463  4.644656e-11      1001.830   \n1258  4359.532   5213.152  6090.999   0.000432  8.475732e-11      1001.830   \n2571  4359.527   5213.151  6091.004   0.000457  6.421543e-11      1001.830   \n591   4359.566   5213.146  6090.917   0.000441  6.685605e-11      1001.830   \n...        ...        ...       ...        ...           ...           ...   \n1349  4359.528   5213.150  6090.999   0.000442  2.437716e-11      1001.830   \n162   4359.735   5213.005  6090.007   0.000490  3.518058e-11      1001.828   \n1504  4359.528   5213.152  6091.001   0.000428  5.093038e-11      1001.830   \n2302  4359.525   5213.151  6091.001   0.000458  5.795502e-11      1001.830   \n146   4360.008   5213.285  6090.241   0.000469  8.933697e-11      1001.828   \n\n      Energy_t_mean  Energy_t_max  \n2343       1092.406      1097.093  \n2178       1092.406      1097.093  \n1258       1092.406      1097.093  \n2571       1092.406      1097.093  \n591        1092.409      1097.096  \n...             ...           ...  \n1349       1092.406      1097.093  \n162        1092.436      1097.134  \n1504       1092.406      1097.093  \n2302       1092.406      1097.093  \n146        1092.447      1097.146  \n\n[2089 rows x 46 columns]",
     "output_type": "error",
     "traceback": [
      "\u001b[0;31m---------------------------------------------------------------------------\u001b[0m",
      "\u001b[0;31mValueError\u001b[0m                                Traceback (most recent call last)",
      "\u001b[0;32m<ipython-input-88-4e697c2b522d>\u001b[0m in \u001b[0;36m<module>\u001b[0;34m\u001b[0m\n\u001b[0;32m----> 1\u001b[0;31m \u001b[0mmlp_model\u001b[0m\u001b[0;34m.\u001b[0m\u001b[0mfit\u001b[0m\u001b[0;34m(\u001b[0m\u001b[0mX_train\u001b[0m\u001b[0;34m,\u001b[0m\u001b[0mY_train\u001b[0m\u001b[0;34m,\u001b[0m\u001b[0mepochs\u001b[0m\u001b[0;34m=\u001b[0m\u001b[0;36m5\u001b[0m\u001b[0;34m,\u001b[0m\u001b[0mbatch_size\u001b[0m\u001b[0;34m=\u001b[0m\u001b[0;36m32\u001b[0m\u001b[0;34m)\u001b[0m\u001b[0;34m\u001b[0m\u001b[0;34m\u001b[0m\u001b[0m\n\u001b[0m",
      "\u001b[0;32m~/Projects/Fall-19/EECS-245/OpenFuelCell/venv/lib/python3.6/site-packages/tensorflow_core/python/keras/engine/training.py\u001b[0m in \u001b[0;36mfit\u001b[0;34m(self, x, y, batch_size, epochs, verbose, callbacks, validation_split, validation_data, shuffle, class_weight, sample_weight, initial_epoch, steps_per_epoch, validation_steps, validation_freq, max_queue_size, workers, use_multiprocessing, **kwargs)\u001b[0m\n\u001b[1;32m    726\u001b[0m         \u001b[0mmax_queue_size\u001b[0m\u001b[0;34m=\u001b[0m\u001b[0mmax_queue_size\u001b[0m\u001b[0;34m,\u001b[0m\u001b[0;34m\u001b[0m\u001b[0;34m\u001b[0m\u001b[0m\n\u001b[1;32m    727\u001b[0m         \u001b[0mworkers\u001b[0m\u001b[0;34m=\u001b[0m\u001b[0mworkers\u001b[0m\u001b[0;34m,\u001b[0m\u001b[0;34m\u001b[0m\u001b[0;34m\u001b[0m\u001b[0m\n\u001b[0;32m--> 728\u001b[0;31m         use_multiprocessing=use_multiprocessing)\n\u001b[0m\u001b[1;32m    729\u001b[0m \u001b[0;34m\u001b[0m\u001b[0m\n\u001b[1;32m    730\u001b[0m   def evaluate(self,\n",
      "\u001b[0;32m~/Projects/Fall-19/EECS-245/OpenFuelCell/venv/lib/python3.6/site-packages/tensorflow_core/python/keras/engine/training_arrays.py\u001b[0m in \u001b[0;36mfit\u001b[0;34m(self, model, x, y, batch_size, epochs, verbose, callbacks, validation_split, validation_data, shuffle, class_weight, sample_weight, initial_epoch, steps_per_epoch, validation_steps, validation_freq, **kwargs)\u001b[0m\n\u001b[1;32m    640\u001b[0m         \u001b[0msteps\u001b[0m\u001b[0;34m=\u001b[0m\u001b[0msteps_per_epoch\u001b[0m\u001b[0;34m,\u001b[0m\u001b[0;34m\u001b[0m\u001b[0;34m\u001b[0m\u001b[0m\n\u001b[1;32m    641\u001b[0m         \u001b[0mvalidation_split\u001b[0m\u001b[0;34m=\u001b[0m\u001b[0mvalidation_split\u001b[0m\u001b[0;34m,\u001b[0m\u001b[0;34m\u001b[0m\u001b[0;34m\u001b[0m\u001b[0m\n\u001b[0;32m--> 642\u001b[0;31m         shuffle=shuffle)\n\u001b[0m\u001b[1;32m    643\u001b[0m \u001b[0;34m\u001b[0m\u001b[0m\n\u001b[1;32m    644\u001b[0m     \u001b[0;32mif\u001b[0m \u001b[0mvalidation_data\u001b[0m\u001b[0;34m:\u001b[0m\u001b[0;34m\u001b[0m\u001b[0;34m\u001b[0m\u001b[0m\n",
      "\u001b[0;32m~/Projects/Fall-19/EECS-245/OpenFuelCell/venv/lib/python3.6/site-packages/tensorflow_core/python/keras/engine/training.py\u001b[0m in \u001b[0;36m_standardize_user_data\u001b[0;34m(self, x, y, sample_weight, class_weight, batch_size, check_steps, steps_name, steps, validation_split, shuffle, extract_tensors_from_dataset)\u001b[0m\n\u001b[1;32m   2417\u001b[0m     \u001b[0;31m# First, we build the model on the fly if necessary.\u001b[0m\u001b[0;34m\u001b[0m\u001b[0;34m\u001b[0m\u001b[0;34m\u001b[0m\u001b[0m\n\u001b[1;32m   2418\u001b[0m     \u001b[0;32mif\u001b[0m \u001b[0;32mnot\u001b[0m \u001b[0mself\u001b[0m\u001b[0;34m.\u001b[0m\u001b[0minputs\u001b[0m\u001b[0;34m:\u001b[0m\u001b[0;34m\u001b[0m\u001b[0;34m\u001b[0m\u001b[0m\n\u001b[0;32m-> 2419\u001b[0;31m       \u001b[0mall_inputs\u001b[0m\u001b[0;34m,\u001b[0m \u001b[0my_input\u001b[0m\u001b[0;34m,\u001b[0m \u001b[0mdict_inputs\u001b[0m \u001b[0;34m=\u001b[0m \u001b[0mself\u001b[0m\u001b[0;34m.\u001b[0m\u001b[0m_build_model_with_inputs\u001b[0m\u001b[0;34m(\u001b[0m\u001b[0mx\u001b[0m\u001b[0;34m,\u001b[0m \u001b[0my\u001b[0m\u001b[0;34m)\u001b[0m\u001b[0;34m\u001b[0m\u001b[0;34m\u001b[0m\u001b[0m\n\u001b[0m\u001b[1;32m   2420\u001b[0m       \u001b[0mis_build_called\u001b[0m \u001b[0;34m=\u001b[0m \u001b[0;32mTrue\u001b[0m\u001b[0;34m\u001b[0m\u001b[0;34m\u001b[0m\u001b[0m\n\u001b[1;32m   2421\u001b[0m     \u001b[0;32melse\u001b[0m\u001b[0;34m:\u001b[0m\u001b[0;34m\u001b[0m\u001b[0;34m\u001b[0m\u001b[0m\n",
      "\u001b[0;32m~/Projects/Fall-19/EECS-245/OpenFuelCell/venv/lib/python3.6/site-packages/tensorflow_core/python/keras/engine/training.py\u001b[0m in \u001b[0;36m_build_model_with_inputs\u001b[0;34m(self, inputs, targets)\u001b[0m\n\u001b[1;32m   2580\u001b[0m     \u001b[0;31m# or lists of arrays, and extract a flat list of inputs from the passed\u001b[0m\u001b[0;34m\u001b[0m\u001b[0;34m\u001b[0m\u001b[0;34m\u001b[0m\u001b[0m\n\u001b[1;32m   2581\u001b[0m     \u001b[0;31m# structure.\u001b[0m\u001b[0;34m\u001b[0m\u001b[0;34m\u001b[0m\u001b[0;34m\u001b[0m\u001b[0m\n\u001b[0;32m-> 2582\u001b[0;31m     \u001b[0mtraining_utils\u001b[0m\u001b[0;34m.\u001b[0m\u001b[0mvalidate_input_types\u001b[0m\u001b[0;34m(\u001b[0m\u001b[0minputs\u001b[0m\u001b[0;34m,\u001b[0m \u001b[0morig_inputs\u001b[0m\u001b[0;34m)\u001b[0m\u001b[0;34m\u001b[0m\u001b[0;34m\u001b[0m\u001b[0m\n\u001b[0m\u001b[1;32m   2583\u001b[0m \u001b[0;34m\u001b[0m\u001b[0m\n\u001b[1;32m   2584\u001b[0m     \u001b[0;32mif\u001b[0m \u001b[0misinstance\u001b[0m\u001b[0;34m(\u001b[0m\u001b[0minputs\u001b[0m\u001b[0;34m,\u001b[0m \u001b[0;34m(\u001b[0m\u001b[0mlist\u001b[0m\u001b[0;34m,\u001b[0m \u001b[0mtuple\u001b[0m\u001b[0;34m)\u001b[0m\u001b[0;34m)\u001b[0m\u001b[0;34m:\u001b[0m\u001b[0;34m\u001b[0m\u001b[0;34m\u001b[0m\u001b[0m\n",
      "\u001b[0;32m~/Projects/Fall-19/EECS-245/OpenFuelCell/venv/lib/python3.6/site-packages/tensorflow_core/python/keras/engine/training_utils.py\u001b[0m in \u001b[0;36mvalidate_input_types\u001b[0;34m(inp, orig_inp, allow_dict, field_name)\u001b[0m\n\u001b[1;32m   1149\u001b[0m     raise ValueError(\n\u001b[1;32m   1150\u001b[0m         \u001b[0;34m'Please provide as model inputs either a single array or a list of '\u001b[0m\u001b[0;34m\u001b[0m\u001b[0;34m\u001b[0m\u001b[0m\n\u001b[0;32m-> 1151\u001b[0;31m         'arrays. You passed: {}={}'.format(field_name, orig_inp))\n\u001b[0m\u001b[1;32m   1152\u001b[0m \u001b[0;34m\u001b[0m\u001b[0m\n\u001b[1;32m   1153\u001b[0m \u001b[0;34m\u001b[0m\u001b[0m\n",
      "\u001b[0;31mValueError\u001b[0m: Please provide as model inputs either a single array or a list of arrays. You passed: inputs=      Time  Tair_min  Tair_mean  Tair_max  Tfuel_min  Tfuel_mean  Tfuel_max  \\\n2343  2344  1001.830   1090.801  1097.090   1030.257    1092.956   1097.088   \n2178  2179  1001.830   1090.801  1097.090   1030.257    1092.956   1097.088   \n1258  1259  1001.830   1090.801  1097.090   1030.257    1092.956   1097.088   \n2571  2572  1001.830   1090.801  1097.090   1030.257    1092.956   1097.088   \n591    592  1001.830   1090.804  1097.093   1030.257    1092.959   1097.091   \n...    ...       ...        ...       ...        ...         ...        ...   \n1349  1350  1001.830   1090.801  1097.090   1030.257    1092.956   1097.088   \n162    163  1001.828   1090.818  1097.132   1030.242    1092.993   1097.131   \n1504  1505  1001.830   1090.801  1097.090   1030.257    1092.956   1097.088   \n2302  2303  1001.830   1090.801  1097.090   1030.257    1092.956   1097.089   \n146    147  1001.828   1090.828  1097.145   1030.243    1093.005   1097.143   \n\n      rhoAir_min  rhoAir_mean  rhoAir_max  ...         V  stack_Voltage  \\\n2343    0.314271     0.320841    0.350999  ...  0.878930       0.878930   \n2178    0.314272     0.320841    0.350999  ...  0.878930       0.878930   \n1258    0.314271     0.320841    0.350999  ...  0.878931       0.878931   \n2571    0.314271     0.320841    0.350999  ...  0.878930       0.878930   \n591     0.314270     0.320840    0.350999  ...  0.878938       0.878938   \n...          ...          ...         ...  ...       ...            ...   \n1349    0.314271     0.320841    0.350999  ...  0.878931       0.878931   \n162     0.314259     0.320836    0.351000  ...  0.879007       0.879007   \n1504    0.314271     0.320841    0.350999  ...  0.878931       0.878931   \n2302    0.314271     0.320841    0.350999  ...  0.878931       0.878931   \n146     0.314255     0.320833    0.351000  ...  0.879019       0.879019   \n\n      min_curr  mean_curr  max_curr  Energy_Ir     Energy_Fr  Energy_t_min  \\\n2343  4359.526   5213.151  6091.002   0.000450  4.807456e-11      1001.830   \n2178  4359.527   5213.151  6091.003   0.000463  4.644656e-11      1001.830   \n1258  4359.532   5213.152  6090.999   0.000432  8.475732e-11      1001.830   \n2571  4359.527   5213.151  6091.004   0.000457  6.421543e-11      1001.830   \n591   4359.566   5213.146  6090.917   0.000441  6.685605e-11      1001.830   \n...        ...        ...       ...        ...           ...           ...   \n1349  4359.528   5213.150  6090.999   0.000442  2.437716e-11      1001.830   \n162   4359.735   5213.005  6090.007   0.000490  3.518058e-11      1001.828   \n1504  4359.528   5213.152  6091.001   0.000428  5.093038e-11      1001.830   \n2302  4359.525   5213.151  6091.001   0.000458  5.795502e-11      1001.830   \n146   4360.008   5213.285  6090.241   0.000469  8.933697e-11      1001.828   \n\n      Energy_t_mean  Energy_t_max  \n2343       1092.406      1097.093  \n2178       1092.406      1097.093  \n1258       1092.406      1097.093  \n2571       1092.406      1097.093  \n591        1092.409      1097.096  \n...             ...           ...  \n1349       1092.406      1097.093  \n162        1092.436      1097.134  \n1504       1092.406      1097.093  \n2302       1092.406      1097.093  \n146        1092.447      1097.146  \n\n[2089 rows x 46 columns]"
     ]
    }
   ],
   "source": [
    "mlp_model.fit(X_train,Y_train,epochs=5,batch_size=32)"
   ]
  },
  {
   "cell_type": "code",
   "execution_count": null,
   "metadata": {},
   "outputs": [],
   "source": []
  },
  {
   "cell_type": "code",
   "execution_count": null,
   "metadata": {},
   "outputs": [],
   "source": []
  }
 ],
 "metadata": {
  "kernelspec": {
   "display_name": "Python 3",
   "language": "python",
   "name": "python3"
  },
  "language_info": {
   "codemirror_mode": {
    "name": "ipython",
    "version": 3
   },
   "file_extension": ".py",
   "mimetype": "text/x-python",
   "name": "python",
   "nbconvert_exporter": "python",
   "pygments_lexer": "ipython3",
   "version": "3.6.8"
  }
 },
 "nbformat": 4,
 "nbformat_minor": 2
}
