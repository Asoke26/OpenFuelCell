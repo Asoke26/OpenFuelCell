{
 "cells": [
  {
   "cell_type": "code",
   "execution_count": 126,
   "metadata": {},
   "outputs": [],
   "source": [
    "import tensorflow as tf"
   ]
  },
  {
   "cell_type": "code",
   "execution_count": 127,
   "metadata": {},
   "outputs": [],
   "source": [
    "from tensorflow import keras"
   ]
  },
  {
   "cell_type": "code",
   "execution_count": 128,
   "metadata": {},
   "outputs": [],
   "source": [
    "from tensorflow.keras import layers"
   ]
  },
  {
   "cell_type": "code",
   "execution_count": 129,
   "metadata": {},
   "outputs": [],
   "source": [
    "import numpy as np"
   ]
  },
  {
   "cell_type": "code",
   "execution_count": 130,
   "metadata": {},
   "outputs": [],
   "source": [
    "import pandas as pd"
   ]
  },
  {
   "cell_type": "code",
   "execution_count": 131,
   "metadata": {},
   "outputs": [],
   "source": [
    "from sklearn.model_selection import train_test_split"
   ]
  },
  {
   "cell_type": "code",
   "execution_count": 132,
   "metadata": {},
   "outputs": [],
   "source": [
    "# Input Data\n",
    "input_file = \"/mnt/c/Users/Ashok/Documents/EECS245/OpenFuelCell/Data/quicktestStack-formatted-output.csv\""
   ]
  },
  {
   "cell_type": "code",
   "execution_count": 133,
   "metadata": {},
   "outputs": [],
   "source": [
    "# read_input_csv = open(input_file,'r') \n",
    "quicktestStack_data = pd.read_csv(input_file,error_bad_lines=False)"
   ]
  },
  {
   "cell_type": "code",
   "execution_count": 134,
   "metadata": {},
   "outputs": [
    {
     "data": {
      "text/plain": [
       "pandas.core.frame.DataFrame"
      ]
     },
     "execution_count": 134,
     "metadata": {},
     "output_type": "execute_result"
    }
   ],
   "source": [
    "type(quicktestStack_data)"
   ]
  },
  {
   "cell_type": "code",
   "execution_count": 306,
   "metadata": {},
   "outputs": [
    {
     "name": "stdout",
     "output_type": "stream",
     "text": [
      "columns  Index(['Time', 'Tair_min', 'Tair_mean', 'Tair_max', 'Tfuel_min', 'Tfuel_mean',\n",
      "       'Tfuel_max', 'rhoAir_min', 'rhoAir_mean', 'rhoAir_max', 'rhoFuel_min',\n",
      "       'rhoFuel_mean', 'rhoFuel_max', 'muAir_min', 'muAir_mean', 'muAir_max',\n",
      "       'muFuel_min', 'muFuel_mean', 'muFuel_max', 'nuAir_min', 'nuAir_mean',\n",
      "       'nuAir_max', 'nuFuel_min', 'nuFuel_mean', 'nuFuel_max', 'kAir_min',\n",
      "       'kAir_mean', 'kAir_max', 'kFuel_min', 'kFuel_mean', 'kFuel_max',\n",
      "       'sumVolume', 'Nern_min', 'Nern_max', 'ibar0', 'ibar', 'stack_Voltage',\n",
      "       'min_curr', 'max_curr', 'Energy_Ir', 'Energy_Fr', 'Energy_t_min',\n",
      "       'Energy_t_mean', 'Energy_t_max', 'V', 'mean_curr'],\n",
      "      dtype='object')\n"
     ]
    }
   ],
   "source": [
    "print(\"columns \",quicktestStack_data.columns)"
   ]
  },
  {
   "cell_type": "code",
   "execution_count": 307,
   "metadata": {},
   "outputs": [
    {
     "name": "stdout",
     "output_type": "stream",
     "text": [
      "['Time', 'Tair_min', 'Tair_mean', 'Tair_max', 'Tfuel_min', 'Tfuel_mean', 'Tfuel_max', 'rhoAir_min', 'rhoAir_mean', 'rhoAir_max', 'rhoFuel_min', 'rhoFuel_mean', 'rhoFuel_max', 'muAir_min', 'muAir_mean', 'muAir_max', 'muFuel_min', 'muFuel_mean', 'muFuel_max', 'nuAir_min', 'nuAir_mean', 'nuAir_max', 'nuFuel_min', 'nuFuel_mean', 'nuFuel_max', 'kAir_min', 'kAir_mean', 'kAir_max', 'kFuel_min', 'kFuel_mean', 'kFuel_max', 'sumVolume', 'Nern_min', 'Nern_max', 'ibar0', 'ibar', 'stack_Voltage', 'min_curr', 'max_curr', 'Energy_Ir', 'Energy_Fr', 'Energy_t_min', 'Energy_t_mean', 'Energy_t_max', 'V']\n"
     ]
    }
   ],
   "source": [
    "# Inputs for MLP model\n",
    "input_features = quicktestStack_data.columns.tolist()[:-1]\n",
    "print(input_features)"
   ]
  },
  {
   "cell_type": "code",
   "execution_count": 308,
   "metadata": {},
   "outputs": [
    {
     "name": "stdout",
     "output_type": "stream",
     "text": [
      "['mean_curr']\n"
     ]
    }
   ],
   "source": [
    "# Prediction terget for MLP model\n",
    "predict_features = quicktestStack_data.columns.tolist()[-1:]\n",
    "print(predict_features)"
   ]
  },
  {
   "cell_type": "code",
   "execution_count": 309,
   "metadata": {},
   "outputs": [],
   "source": [
    "X = quicktestStack_data[input_features]\n",
    "Y = quicktestStack_data[predict_features]"
   ]
  },
  {
   "cell_type": "code",
   "execution_count": 310,
   "metadata": {},
   "outputs": [],
   "source": [
    "X_train,X_test,Y_train,Y_test = train_test_split(X, Y, test_size=0.2)"
   ]
  },
  {
   "cell_type": "code",
   "execution_count": 311,
   "metadata": {},
   "outputs": [],
   "source": [
    "X_train = X_train.values\n",
    "X_test = X_test.values\n",
    "Y_train = Y_train.values\n",
    "Y_test = Y_test.values"
   ]
  },
  {
   "cell_type": "code",
   "execution_count": 312,
   "metadata": {},
   "outputs": [
    {
     "data": {
      "text/plain": [
       "(2089, 45)"
      ]
     },
     "execution_count": 312,
     "metadata": {},
     "output_type": "execute_result"
    }
   ],
   "source": [
    "X_train.shape\n"
   ]
  },
  {
   "cell_type": "code",
   "execution_count": 313,
   "metadata": {},
   "outputs": [
    {
     "data": {
      "text/plain": [
       "(523, 45)"
      ]
     },
     "execution_count": 313,
     "metadata": {},
     "output_type": "execute_result"
    }
   ],
   "source": [
    "X_test.shape\n"
   ]
  },
  {
   "cell_type": "code",
   "execution_count": 314,
   "metadata": {},
   "outputs": [
    {
     "data": {
      "text/plain": [
       "(2089, 1)"
      ]
     },
     "execution_count": 314,
     "metadata": {},
     "output_type": "execute_result"
    }
   ],
   "source": [
    "Y_train.shape\n"
   ]
  },
  {
   "cell_type": "code",
   "execution_count": 315,
   "metadata": {},
   "outputs": [
    {
     "data": {
      "text/plain": [
       "(523, 1)"
      ]
     },
     "execution_count": 315,
     "metadata": {},
     "output_type": "execute_result"
    }
   ],
   "source": [
    "Y_test.shape"
   ]
  },
  {
   "cell_type": "code",
   "execution_count": 336,
   "metadata": {},
   "outputs": [],
   "source": [
    "mlp_model = tf.keras.Sequential()"
   ]
  },
  {
   "cell_type": "code",
   "execution_count": 337,
   "metadata": {},
   "outputs": [],
   "source": [
    "# Adds a densely-connected layer with 64 units to the model:\n",
    "mlp_model.add(layers.Dense(45))"
   ]
  },
  {
   "cell_type": "code",
   "execution_count": 338,
   "metadata": {},
   "outputs": [],
   "source": [
    "#tf.keras.layers.LSTM(128)"
   ]
  },
  {
   "cell_type": "code",
   "execution_count": 339,
   "metadata": {},
   "outputs": [],
   "source": [
    "# Add another:\n",
    "mlp_model.add(layers.Dense(256, activation='relu'))"
   ]
  },
  {
   "cell_type": "code",
   "execution_count": 340,
   "metadata": {},
   "outputs": [],
   "source": [
    "# Add another:\n",
    "mlp_model.add(layers.Dense(128, activation='relu'))"
   ]
  },
  {
   "cell_type": "code",
   "execution_count": 341,
   "metadata": {},
   "outputs": [],
   "source": [
    "# Add a softmax layer with 10 output units:\n",
    "mlp_model.add(layers.Dense(1, activation='linear'))"
   ]
  },
  {
   "cell_type": "code",
   "execution_count": 342,
   "metadata": {},
   "outputs": [],
   "source": [
    "mlp_model.compile(optimizer=tf.keras.optimizers.Adam(0.01),\n",
    "              loss='categorical_crossentropy',\n",
    "              metrics=['accuracy'])"
   ]
  },
  {
   "cell_type": "code",
   "execution_count": 343,
   "metadata": {},
   "outputs": [
    {
     "name": "stdout",
     "output_type": "stream",
     "text": [
      "Train on 2089 samples\n",
      "Epoch 1/50\n",
      "2089/2089 [==============================] - 4s 2ms/sample - loss: 6.2172e-04 - accuracy: 0.0000e+00\n",
      "Epoch 2/50\n",
      "2089/2089 [==============================] - 0s 124us/sample - loss: 6.2172e-04 - accuracy: 0.0000e+00\n",
      "Epoch 3/50\n",
      "2089/2089 [==============================] - 0s 136us/sample - loss: 6.2172e-04 - accuracy: 0.0000e+00\n",
      "Epoch 4/50\n",
      "2089/2089 [==============================] - 0s 134us/sample - loss: 6.2172e-04 - accuracy: 0.0000e+00\n",
      "Epoch 5/50\n",
      "2089/2089 [==============================] - 0s 131us/sample - loss: 6.2172e-04 - accuracy: 0.0000e+00\n",
      "Epoch 6/50\n",
      "2089/2089 [==============================] - 0s 130us/sample - loss: 6.2172e-04 - accuracy: 0.0000e+00\n",
      "Epoch 7/50\n",
      "2089/2089 [==============================] - 0s 131us/sample - loss: 6.2172e-04 - accuracy: 0.0000e+00\n",
      "Epoch 8/50\n",
      "2089/2089 [==============================] - 0s 132us/sample - loss: 6.2172e-04 - accuracy: 0.0000e+00\n",
      "Epoch 9/50\n",
      "2089/2089 [==============================] - 0s 131us/sample - loss: 6.2172e-04 - accuracy: 0.0000e+00\n",
      "Epoch 10/50\n",
      "2089/2089 [==============================] - 0s 128us/sample - loss: 6.2172e-04 - accuracy: 0.0000e+00\n",
      "Epoch 11/50\n",
      "2089/2089 [==============================] - 0s 138us/sample - loss: 6.2172e-04 - accuracy: 0.0000e+00\n",
      "Epoch 12/50\n",
      "2089/2089 [==============================] - 0s 140us/sample - loss: 6.2172e-04 - accuracy: 0.0000e+00\n",
      "Epoch 13/50\n",
      "2089/2089 [==============================] - 0s 191us/sample - loss: 6.2172e-04 - accuracy: 0.0000e+00\n",
      "Epoch 14/50\n",
      "2089/2089 [==============================] - 0s 136us/sample - loss: 6.2172e-04 - accuracy: 0.0000e+00\n",
      "Epoch 15/50\n",
      "2089/2089 [==============================] - 0s 134us/sample - loss: 6.2172e-04 - accuracy: 0.0000e+00\n",
      "Epoch 16/50\n",
      "2089/2089 [==============================] - 0s 135us/sample - loss: 6.2172e-04 - accuracy: 0.0000e+00\n",
      "Epoch 17/50\n",
      "2089/2089 [==============================] - 0s 129us/sample - loss: 6.2172e-04 - accuracy: 0.0000e+00\n",
      "Epoch 18/50\n",
      "2089/2089 [==============================] - 0s 150us/sample - loss: 6.2172e-04 - accuracy: 0.0000e+00\n",
      "Epoch 19/50\n",
      "2089/2089 [==============================] - 0s 144us/sample - loss: 6.2172e-04 - accuracy: 0.0000e+00\n",
      "Epoch 20/50\n",
      "2089/2089 [==============================] - 0s 127us/sample - loss: 6.2172e-04 - accuracy: 0.0000e+00\n",
      "Epoch 21/50\n",
      "2089/2089 [==============================] - 0s 130us/sample - loss: 6.2172e-04 - accuracy: 0.0000e+00\n",
      "Epoch 22/50\n",
      "2089/2089 [==============================] - 0s 130us/sample - loss: 6.2172e-04 - accuracy: 0.0000e+00\n",
      "Epoch 23/50\n",
      "2089/2089 [==============================] - 0s 134us/sample - loss: 6.2172e-04 - accuracy: 0.0000e+00\n",
      "Epoch 24/50\n",
      "2089/2089 [==============================] - 0s 131us/sample - loss: 6.2172e-04 - accuracy: 0.0000e+00\n",
      "Epoch 25/50\n",
      "2089/2089 [==============================] - 0s 160us/sample - loss: 6.2172e-04 - accuracy: 0.0000e+00\n",
      "Epoch 26/50\n",
      "2089/2089 [==============================] - 0s 139us/sample - loss: 6.2172e-04 - accuracy: 0.0000e+00\n",
      "Epoch 27/50\n",
      "2089/2089 [==============================] - 0s 142us/sample - loss: 6.2172e-04 - accuracy: 0.0000e+00\n",
      "Epoch 28/50\n",
      "2089/2089 [==============================] - 0s 145us/sample - loss: 6.2172e-04 - accuracy: 0.0000e+00\n",
      "Epoch 29/50\n",
      "2089/2089 [==============================] - 0s 114us/sample - loss: 6.2172e-04 - accuracy: 0.0000e+00\n",
      "Epoch 30/50\n",
      "2089/2089 [==============================] - 0s 144us/sample - loss: 6.2172e-04 - accuracy: 0.0000e+00\n",
      "Epoch 31/50\n",
      "2089/2089 [==============================] - 0s 155us/sample - loss: 6.2172e-04 - accuracy: 0.0000e+00\n",
      "Epoch 32/50\n",
      "2089/2089 [==============================] - 0s 135us/sample - loss: 6.2172e-04 - accuracy: 0.0000e+00\n",
      "Epoch 33/50\n",
      "2089/2089 [==============================] - 0s 132us/sample - loss: 6.2172e-04 - accuracy: 0.0000e+00\n",
      "Epoch 34/50\n",
      "2089/2089 [==============================] - 0s 126us/sample - loss: 6.2172e-04 - accuracy: 0.0000e+00\n",
      "Epoch 35/50\n",
      "2089/2089 [==============================] - 0s 130us/sample - loss: 6.2172e-04 - accuracy: 0.0000e+00\n",
      "Epoch 36/50\n",
      "2089/2089 [==============================] - 0s 138us/sample - loss: 6.2172e-04 - accuracy: 0.0000e+00\n",
      "Epoch 37/50\n",
      "2089/2089 [==============================] - 0s 153us/sample - loss: 6.2172e-04 - accuracy: 0.0000e+00\n",
      "Epoch 38/50\n",
      "2089/2089 [==============================] - 0s 134us/sample - loss: 6.2172e-04 - accuracy: 0.0000e+00\n",
      "Epoch 39/50\n",
      "2089/2089 [==============================] - 0s 129us/sample - loss: 6.2172e-04 - accuracy: 0.0000e+00\n",
      "Epoch 40/50\n",
      "2089/2089 [==============================] - 0s 113us/sample - loss: 6.2172e-04 - accuracy: 0.0000e+00\n",
      "Epoch 41/50\n",
      "2089/2089 [==============================] - 0s 118us/sample - loss: 6.2172e-04 - accuracy: 0.0000e+00\n",
      "Epoch 42/50\n",
      "2089/2089 [==============================] - 0s 129us/sample - loss: 6.2172e-04 - accuracy: 0.0000e+00\n",
      "Epoch 43/50\n",
      "2089/2089 [==============================] - 0s 128us/sample - loss: 6.2172e-04 - accuracy: 0.0000e+00\n",
      "Epoch 44/50\n",
      "2089/2089 [==============================] - 0s 112us/sample - loss: 6.2172e-04 - accuracy: 0.0000e+00\n",
      "Epoch 45/50\n",
      "2089/2089 [==============================] - 0s 125us/sample - loss: 6.2172e-04 - accuracy: 0.0000e+00\n",
      "Epoch 46/50\n",
      "2089/2089 [==============================] - 0s 123us/sample - loss: 6.2172e-04 - accuracy: 0.0000e+00\n",
      "Epoch 47/50\n",
      "2089/2089 [==============================] - 0s 126us/sample - loss: 6.2172e-04 - accuracy: 0.0000e+00\n",
      "Epoch 48/50\n",
      "2089/2089 [==============================] - 0s 123us/sample - loss: 6.2172e-04 - accuracy: 0.0000e+00\n",
      "Epoch 49/50\n",
      "2089/2089 [==============================] - 0s 125us/sample - loss: 6.2172e-04 - accuracy: 0.0000e+00\n",
      "Epoch 50/50\n",
      "2089/2089 [==============================] - 0s 143us/sample - loss: 6.2172e-04 - accuracy: 0.0000e+00\n"
     ]
    },
    {
     "data": {
      "text/plain": [
       "<tensorflow.python.keras.callbacks.History at 0x7f1a04044fd0>"
      ]
     },
     "execution_count": 343,
     "metadata": {},
     "output_type": "execute_result"
    }
   ],
   "source": [
    "mlp_model.fit(X_train,Y_train,epochs=50,batch_size=32)"
   ]
  },
  {
   "cell_type": "code",
   "execution_count": 344,
   "metadata": {},
   "outputs": [
    {
     "name": "stdout",
     "output_type": "stream",
     "text": [
      "523/1 - 0s - loss: 6.2141e-04 - accuracy: 0.0000e+00\n"
     ]
    },
    {
     "data": {
      "text/plain": [
       "[0.0006213567354787589, 0.0]"
      ]
     },
     "execution_count": 344,
     "metadata": {},
     "output_type": "execute_result"
    }
   ],
   "source": [
    "# Evaluate Model\n",
    "mlp_model.evaluate(X_test,Y_test,verbose=2)"
   ]
  },
  {
   "cell_type": "code",
   "execution_count": null,
   "metadata": {},
   "outputs": [],
   "source": []
  }
 ],
 "metadata": {
  "kernelspec": {
   "display_name": "Python 3",
   "language": "python",
   "name": "python3"
  },
  "language_info": {
   "codemirror_mode": {
    "name": "ipython",
    "version": 3
   },
   "file_extension": ".py",
   "mimetype": "text/x-python",
   "name": "python",
   "nbconvert_exporter": "python",
   "pygments_lexer": "ipython3",
   "version": "3.6.8"
  }
 },
 "nbformat": 4,
 "nbformat_minor": 2
}
